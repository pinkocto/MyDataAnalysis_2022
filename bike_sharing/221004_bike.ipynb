{
 "cells": [
  {
   "cell_type": "markdown",
   "id": "23e05e83",
   "metadata": {},
   "source": [
    "# Bike Sharing Demand"
   ]
  },
  {
   "cell_type": "code",
   "execution_count": 87,
   "id": "05b4eedd",
   "metadata": {},
   "outputs": [],
   "source": [
    "import pandas as pd\n",
    "import matplotlib.pyplot as plt\n",
    "import seaborn as sns\n",
    "import numpy as np\n",
    "\n",
    "from sklearn.neighbors import KNeighborsRegressor\n",
    "from sklearn.linear_model import LinearRegression\n",
    "from sklearn.tree import DecisionTreeRegressor\n",
    "from sklearn.ensemble import RandomForestRegressor\n",
    "\n",
    "from sklearn.model_selection import train_test_split"
   ]
  },
  {
   "cell_type": "code",
   "execution_count": 13,
   "id": "a57a9d9e",
   "metadata": {},
   "outputs": [
    {
     "data": {
      "text/plain": [
       "((10886, 12), (6493, 9), (6493, 2))"
      ]
     },
     "execution_count": 13,
     "metadata": {},
     "output_type": "execute_result"
    }
   ],
   "source": [
    "train = pd.read_csv('./train.csv')\n",
    "test = pd.read_csv('./test.csv')\n",
    "sub = pd.read_csv('./sampleSubmission.csv')\n",
    "\n",
    "train.shape, test.shape, sub.shape"
   ]
  },
  {
   "cell_type": "markdown",
   "id": "397841b9",
   "metadata": {},
   "source": [
    "## (실습1) 데이터를 알아가기 위한 여러가지 질문을 작성해 보자.\n",
    "`-` 01. datetime은 언제부터 언제까지의 데이터일까?\n",
    "\n",
    "\n",
    "`-` 02-A count와 temp는 어떤 상관관계가 있을까?\n",
    "\n",
    "- 산점도(scatter plot)로 확인해 보기 - matplotlib 활용해 보기\n",
    "- type은 점으로 표시\n",
    "- 투명도를 0.2로 표현\n",
    "\n",
    "\n",
    "`-` 02-B corr()를 활용하여 count와 다른 feature(특징)간의 상관계수를 확인해 보자."
   ]
  },
  {
   "cell_type": "code",
   "execution_count": 4,
   "id": "f2122169",
   "metadata": {},
   "outputs": [
    {
     "data": {
      "text/html": [
       "<div>\n",
       "<style scoped>\n",
       "    .dataframe tbody tr th:only-of-type {\n",
       "        vertical-align: middle;\n",
       "    }\n",
       "\n",
       "    .dataframe tbody tr th {\n",
       "        vertical-align: top;\n",
       "    }\n",
       "\n",
       "    .dataframe thead th {\n",
       "        text-align: right;\n",
       "    }\n",
       "</style>\n",
       "<table border=\"1\" class=\"dataframe\">\n",
       "  <thead>\n",
       "    <tr style=\"text-align: right;\">\n",
       "      <th></th>\n",
       "      <th>datetime</th>\n",
       "      <th>season</th>\n",
       "      <th>holiday</th>\n",
       "      <th>workingday</th>\n",
       "      <th>weather</th>\n",
       "      <th>temp</th>\n",
       "      <th>atemp</th>\n",
       "      <th>humidity</th>\n",
       "      <th>windspeed</th>\n",
       "      <th>casual</th>\n",
       "      <th>registered</th>\n",
       "      <th>count</th>\n",
       "    </tr>\n",
       "  </thead>\n",
       "  <tbody>\n",
       "    <tr>\n",
       "      <th>0</th>\n",
       "      <td>2011-01-01 00:00:00</td>\n",
       "      <td>1</td>\n",
       "      <td>0</td>\n",
       "      <td>0</td>\n",
       "      <td>1</td>\n",
       "      <td>9.84</td>\n",
       "      <td>14.395</td>\n",
       "      <td>81</td>\n",
       "      <td>0.0</td>\n",
       "      <td>3</td>\n",
       "      <td>13</td>\n",
       "      <td>16</td>\n",
       "    </tr>\n",
       "    <tr>\n",
       "      <th>1</th>\n",
       "      <td>2011-01-01 01:00:00</td>\n",
       "      <td>1</td>\n",
       "      <td>0</td>\n",
       "      <td>0</td>\n",
       "      <td>1</td>\n",
       "      <td>9.02</td>\n",
       "      <td>13.635</td>\n",
       "      <td>80</td>\n",
       "      <td>0.0</td>\n",
       "      <td>8</td>\n",
       "      <td>32</td>\n",
       "      <td>40</td>\n",
       "    </tr>\n",
       "    <tr>\n",
       "      <th>2</th>\n",
       "      <td>2011-01-01 02:00:00</td>\n",
       "      <td>1</td>\n",
       "      <td>0</td>\n",
       "      <td>0</td>\n",
       "      <td>1</td>\n",
       "      <td>9.02</td>\n",
       "      <td>13.635</td>\n",
       "      <td>80</td>\n",
       "      <td>0.0</td>\n",
       "      <td>5</td>\n",
       "      <td>27</td>\n",
       "      <td>32</td>\n",
       "    </tr>\n",
       "    <tr>\n",
       "      <th>3</th>\n",
       "      <td>2011-01-01 03:00:00</td>\n",
       "      <td>1</td>\n",
       "      <td>0</td>\n",
       "      <td>0</td>\n",
       "      <td>1</td>\n",
       "      <td>9.84</td>\n",
       "      <td>14.395</td>\n",
       "      <td>75</td>\n",
       "      <td>0.0</td>\n",
       "      <td>3</td>\n",
       "      <td>10</td>\n",
       "      <td>13</td>\n",
       "    </tr>\n",
       "    <tr>\n",
       "      <th>4</th>\n",
       "      <td>2011-01-01 04:00:00</td>\n",
       "      <td>1</td>\n",
       "      <td>0</td>\n",
       "      <td>0</td>\n",
       "      <td>1</td>\n",
       "      <td>9.84</td>\n",
       "      <td>14.395</td>\n",
       "      <td>75</td>\n",
       "      <td>0.0</td>\n",
       "      <td>0</td>\n",
       "      <td>1</td>\n",
       "      <td>1</td>\n",
       "    </tr>\n",
       "  </tbody>\n",
       "</table>\n",
       "</div>"
      ],
      "text/plain": [
       "              datetime  season  holiday  workingday  weather  temp   atemp  \\\n",
       "0  2011-01-01 00:00:00       1        0           0        1  9.84  14.395   \n",
       "1  2011-01-01 01:00:00       1        0           0        1  9.02  13.635   \n",
       "2  2011-01-01 02:00:00       1        0           0        1  9.02  13.635   \n",
       "3  2011-01-01 03:00:00       1        0           0        1  9.84  14.395   \n",
       "4  2011-01-01 04:00:00       1        0           0        1  9.84  14.395   \n",
       "\n",
       "   humidity  windspeed  casual  registered  count  \n",
       "0        81        0.0       3          13     16  \n",
       "1        80        0.0       8          32     40  \n",
       "2        80        0.0       5          27     32  \n",
       "3        75        0.0       3          10     13  \n",
       "4        75        0.0       0           1      1  "
      ]
     },
     "execution_count": 4,
     "metadata": {},
     "output_type": "execute_result"
    }
   ],
   "source": [
    "train.head()"
   ]
  },
  {
   "cell_type": "code",
   "execution_count": 14,
   "id": "836bdf12",
   "metadata": {},
   "outputs": [
    {
     "name": "stdout",
     "output_type": "stream",
     "text": [
      "<class 'pandas.core.frame.DataFrame'>\n",
      "RangeIndex: 10886 entries, 0 to 10885\n",
      "Data columns (total 12 columns):\n",
      " #   Column      Non-Null Count  Dtype  \n",
      "---  ------      --------------  -----  \n",
      " 0   datetime    10886 non-null  object \n",
      " 1   season      10886 non-null  int64  \n",
      " 2   holiday     10886 non-null  int64  \n",
      " 3   workingday  10886 non-null  int64  \n",
      " 4   weather     10886 non-null  int64  \n",
      " 5   temp        10886 non-null  float64\n",
      " 6   atemp       10886 non-null  float64\n",
      " 7   humidity    10886 non-null  int64  \n",
      " 8   windspeed   10886 non-null  float64\n",
      " 9   casual      10886 non-null  int64  \n",
      " 10  registered  10886 non-null  int64  \n",
      " 11  count       10886 non-null  int64  \n",
      "dtypes: float64(3), int64(8), object(1)\n",
      "memory usage: 1020.7+ KB\n"
     ]
    }
   ],
   "source": [
    "train.info()"
   ]
  },
  {
   "cell_type": "markdown",
   "id": "d3e6a75a",
   "metadata": {},
   "source": [
    "- 결측치가 없고, 라벨 인코딩이 되어 있다!"
   ]
  },
  {
   "cell_type": "code",
   "execution_count": 7,
   "id": "3a21a7bc",
   "metadata": {},
   "outputs": [
    {
     "data": {
      "text/plain": [
       "0        2011-01-01 00:00:00\n",
       "1        2011-01-01 01:00:00\n",
       "2        2011-01-01 02:00:00\n",
       "3        2011-01-01 03:00:00\n",
       "4        2011-01-01 04:00:00\n",
       "                ...         \n",
       "10881    2012-12-19 19:00:00\n",
       "10882    2012-12-19 20:00:00\n",
       "10883    2012-12-19 21:00:00\n",
       "10884    2012-12-19 22:00:00\n",
       "10885    2012-12-19 23:00:00\n",
       "Name: datetime, Length: 10886, dtype: object"
      ]
     },
     "execution_count": 7,
     "metadata": {},
     "output_type": "execute_result"
    }
   ],
   "source": [
    "train['datetime'].sort_values()"
   ]
  },
  {
   "cell_type": "code",
   "execution_count": 20,
   "id": "0629cb81",
   "metadata": {},
   "outputs": [
    {
     "data": {
      "text/plain": [
       "('2011-01-01 00:00:00', '2012-12-19 23:00:00')"
      ]
     },
     "execution_count": 20,
     "metadata": {},
     "output_type": "execute_result"
    }
   ],
   "source": [
    "train['datetime'].min(), train['datetime'].max()"
   ]
  },
  {
   "cell_type": "code",
   "execution_count": 21,
   "id": "75dda524",
   "metadata": {},
   "outputs": [
    {
     "data": {
      "text/plain": [
       "('2011-01-20 00:00:00', '2012-12-31 23:00:00')"
      ]
     },
     "execution_count": 21,
     "metadata": {},
     "output_type": "execute_result"
    }
   ],
   "source": [
    "test['datetime'].min(), test['datetime'].max()"
   ]
  },
  {
   "cell_type": "markdown",
   "id": "6ff26a06",
   "metadata": {},
   "source": [
    "- train : 2011-01-01 부터 2012-12-19일 까지의 데이터\n",
    "- test : 2011-01-20 부터 2012-12-30일 까지의 데이터"
   ]
  },
  {
   "cell_type": "code",
   "execution_count": 26,
   "id": "78ea5dc5",
   "metadata": {},
   "outputs": [
    {
     "data": {
      "image/png": "[encoded data removed]",
      "text/plain": [
       "<Figure size 432x288 with 1 Axes>"
      ]
     },
     "metadata": {
      "needs_background": "light"
     },
     "output_type": "display_data"
    }
   ],
   "source": [
    "# count 의 histogram\n",
    "plt.hist(train['count'])\n",
    "plt.title(\"count\")\n",
    "plt.show()"
   ]
  },
  {
   "cell_type": "code",
   "execution_count": 28,
   "id": "6c94b92c",
   "metadata": {},
   "outputs": [
    {
     "data": {
      "text/plain": [
       "count    10886.000000\n",
       "mean       191.574132\n",
       "std        181.144454\n",
       "min          1.000000\n",
       "25%         42.000000\n",
       "50%        145.000000\n",
       "75%        284.000000\n",
       "max        977.000000\n",
       "Name: count, dtype: float64"
      ]
     },
     "execution_count": 28,
     "metadata": {},
     "output_type": "execute_result"
    }
   ],
   "source": [
    "train['count'].describe()"
   ]
  },
  {
   "cell_type": "markdown",
   "id": "c2899898",
   "metadata": {},
   "source": [
    "- 시간대별 자전거 대여수의 평균이 191건\n",
    "- 시간대별 최소 대여건수는 1대 최대 대여건수는 977건"
   ]
  },
  {
   "cell_type": "code",
   "execution_count": 31,
   "id": "69dd38e7",
   "metadata": {},
   "outputs": [
    {
     "data": {
      "image/png": "[encoded data removed]",
      "text/plain": [
       "<Figure size 432x288 with 1 Axes>"
      ]
     },
     "metadata": {
      "needs_background": "light"
     },
     "output_type": "display_data"
    }
   ],
   "source": [
    "plt.boxplot(train['count'])\n",
    "plt.show()"
   ]
  },
  {
   "cell_type": "code",
   "execution_count": 32,
   "id": "a48bf09a",
   "metadata": {},
   "outputs": [
    {
     "data": {
      "text/plain": [
       "<matplotlib.collections.PathCollection at 0x2625b9cc160>"
      ]
     },
     "execution_count": 32,
     "metadata": {},
     "output_type": "execute_result"
    },
    {
     "data": {
      "image/png": "[encoded data removed]",
      "text/plain": [
       "<Figure size 432x288 with 1 Axes>"
      ]
     },
     "metadata": {
      "needs_background": "light"
     },
     "output_type": "display_data"
    }
   ],
   "source": [
    "#  count와 temp는 어떤 상관관계가 있을까?\n",
    "plt.scatter(train['temp'], train['count'], alpha=0.2)"
   ]
  },
  {
   "cell_type": "code",
   "execution_count": 39,
   "id": "a6827018",
   "metadata": {},
   "outputs": [
    {
     "data": {
      "text/plain": [
       "<seaborn.axisgrid.FacetGrid at 0x2625cae8490>"
      ]
     },
     "execution_count": 39,
     "metadata": {},
     "output_type": "execute_result"
    },
    {
     "data": {
      "image/png": "[encoded data removed]",
      "text/plain": [
       "<Figure size 360x360 with 1 Axes>"
      ]
     },
     "metadata": {
      "needs_background": "light"
     },
     "output_type": "display_data"
    }
   ],
   "source": [
    "sns.lmplot(x = 'temp', y = 'count', data = train, scatter_kws={\"alpha\":.1})"
   ]
  },
  {
   "cell_type": "code",
   "execution_count": 23,
   "id": "693efa8e",
   "metadata": {
    "scrolled": true
   },
   "outputs": [
    {
     "data": {
      "text/plain": [
       "season        0.163439\n",
       "holiday      -0.005393\n",
       "workingday    0.011594\n",
       "weather      -0.128655\n",
       "temp          0.394454\n",
       "atemp         0.389784\n",
       "humidity     -0.317371\n",
       "windspeed     0.101369\n",
       "casual        0.690414\n",
       "registered    0.970948\n",
       "count         1.000000\n",
       "Name: count, dtype: float64"
      ]
     },
     "execution_count": 23,
     "metadata": {},
     "output_type": "execute_result"
    }
   ],
   "source": [
    "train.corr()['count']"
   ]
  },
  {
   "cell_type": "markdown",
   "id": "448ed3f2",
   "metadata": {},
   "source": [
    "### 계절별 데이터를 확인 및 시각화 해보자"
   ]
  },
  {
   "cell_type": "code",
   "execution_count": 45,
   "id": "e14b108a",
   "metadata": {},
   "outputs": [
    {
     "data": {
      "text/html": [
       "<div>\n",
       "<style scoped>\n",
       "    .dataframe tbody tr th:only-of-type {\n",
       "        vertical-align: middle;\n",
       "    }\n",
       "\n",
       "    .dataframe tbody tr th {\n",
       "        vertical-align: top;\n",
       "    }\n",
       "\n",
       "    .dataframe thead th {\n",
       "        text-align: right;\n",
       "    }\n",
       "</style>\n",
       "<table border=\"1\" class=\"dataframe\">\n",
       "  <thead>\n",
       "    <tr style=\"text-align: right;\">\n",
       "      <th></th>\n",
       "      <th>datetime</th>\n",
       "      <th>season</th>\n",
       "      <th>holiday</th>\n",
       "      <th>workingday</th>\n",
       "      <th>weather</th>\n",
       "      <th>temp</th>\n",
       "      <th>atemp</th>\n",
       "      <th>humidity</th>\n",
       "      <th>windspeed</th>\n",
       "      <th>casual</th>\n",
       "      <th>registered</th>\n",
       "      <th>count</th>\n",
       "    </tr>\n",
       "  </thead>\n",
       "  <tbody>\n",
       "    <tr>\n",
       "      <th>5631</th>\n",
       "      <td>2012-01-09 18:00:00</td>\n",
       "      <td>1</td>\n",
       "      <td>0</td>\n",
       "      <td>1</td>\n",
       "      <td>4</td>\n",
       "      <td>8.2</td>\n",
       "      <td>11.365</td>\n",
       "      <td>86</td>\n",
       "      <td>6.0032</td>\n",
       "      <td>6</td>\n",
       "      <td>158</td>\n",
       "      <td>164</td>\n",
       "    </tr>\n",
       "  </tbody>\n",
       "</table>\n",
       "</div>"
      ],
      "text/plain": [
       "                 datetime  season  holiday  workingday  weather  temp   atemp  \\\n",
       "5631  2012-01-09 18:00:00       1        0           1        4   8.2  11.365   \n",
       "\n",
       "      humidity  windspeed  casual  registered  count  \n",
       "5631        86     6.0032       6         158    164  "
      ]
     },
     "execution_count": 45,
     "metadata": {},
     "output_type": "execute_result"
    }
   ],
   "source": [
    "train[train['weather']==4]"
   ]
  },
  {
   "cell_type": "code",
   "execution_count": 53,
   "id": "20f0ea01",
   "metadata": {},
   "outputs": [
    {
     "data": {
      "text/plain": [
       "4    2734\n",
       "2    2733\n",
       "3    2733\n",
       "1    2686\n",
       "Name: season, dtype: int64"
      ]
     },
     "execution_count": 53,
     "metadata": {},
     "output_type": "execute_result"
    }
   ],
   "source": [
    "train['season'].value_counts()"
   ]
  },
  {
   "cell_type": "code",
   "execution_count": 57,
   "id": "39dccb59",
   "metadata": {},
   "outputs": [
    {
     "name": "stderr",
     "output_type": "stream",
     "text": [
      "C:\\Users\\82103\\anaconda3\\envs\\py38r40\\lib\\site-packages\\seaborn\\_decorators.py:36: FutureWarning: Pass the following variable as a keyword arg: x. From version 0.12, the only valid positional argument will be `data`, and passing other arguments without an explicit keyword will result in an error or misinterpretation.\n",
      "  warnings.warn(\n",
      "C:\\Users\\82103\\anaconda3\\envs\\py38r40\\lib\\site-packages\\seaborn\\_decorators.py:36: FutureWarning: Pass the following variable as a keyword arg: x. From version 0.12, the only valid positional argument will be `data`, and passing other arguments without an explicit keyword will result in an error or misinterpretation.\n",
      "  warnings.warn(\n"
     ]
    },
    {
     "data": {
      "image/png": "[encoded data removed]",
      "text/plain": [
       "<Figure size 720x360 with 2 Axes>"
      ]
     },
     "metadata": {
      "needs_background": "light"
     },
     "output_type": "display_data"
    }
   ],
   "source": [
    "plt.figure(figsize=(10,5))\n",
    "plt.subplot(1,2,1)\n",
    "sns.countplot(train['season'])\n",
    "plt.title(\"train dataset - season\")\n",
    "\n",
    "plt.subplot(1,2,2)\n",
    "sns.countplot(test['season'])\n",
    "plt.title('test dataset - season')\n",
    "plt.show()"
   ]
  },
  {
   "cell_type": "markdown",
   "id": "a2285d91",
   "metadata": {},
   "source": [
    "- trian 데이터에는 균등하게 있고, test 데이터에는 2, 3 (여름, 가을) 이 많다.\n",
    "- test 데이터는 왜 season에 따른 데이터 개수가 다를까?"
   ]
  },
  {
   "cell_type": "code",
   "execution_count": 62,
   "id": "8b7c5dfb",
   "metadata": {},
   "outputs": [
    {
     "data": {
      "text/plain": [
       "3    1763\n",
       "2    1676\n",
       "1    1556\n",
       "4    1498\n",
       "Name: season, dtype: int64"
      ]
     },
     "execution_count": 62,
     "metadata": {},
     "output_type": "execute_result"
    }
   ],
   "source": [
    "test['season'].value_counts()"
   ]
  },
  {
   "cell_type": "code",
   "execution_count": 43,
   "id": "0a7f12f4",
   "metadata": {},
   "outputs": [
    {
     "data": {
      "text/plain": [
       "season\n",
       "1    116.343261\n",
       "2    215.251372\n",
       "3    234.417124\n",
       "4    198.988296\n",
       "Name: count, dtype: float64"
      ]
     },
     "execution_count": 43,
     "metadata": {},
     "output_type": "execute_result"
    }
   ],
   "source": [
    "train['count'].groupby(train['season']).mean()"
   ]
  },
  {
   "cell_type": "markdown",
   "id": "02ddf2f6",
   "metadata": {},
   "source": [
    "### 쉬는 날과 아닌 날의 데이터는 얼마나 될까? 이를 시각화 하기"
   ]
  },
  {
   "cell_type": "code",
   "execution_count": 59,
   "id": "48fa3bec",
   "metadata": {},
   "outputs": [
    {
     "data": {
      "text/plain": [
       "0    10575\n",
       "1      311\n",
       "Name: holiday, dtype: int64"
      ]
     },
     "execution_count": 59,
     "metadata": {},
     "output_type": "execute_result"
    }
   ],
   "source": [
    "train['holiday'].value_counts()"
   ]
  },
  {
   "cell_type": "code",
   "execution_count": 61,
   "id": "3dad2552",
   "metadata": {},
   "outputs": [
    {
     "data": {
      "image/png": "[encoded data removed]",
      "text/plain": [
       "<Figure size 432x288 with 1 Axes>"
      ]
     },
     "metadata": {
      "needs_background": "light"
     },
     "output_type": "display_data"
    }
   ],
   "source": [
    "sns.countplot(x='holiday', data=train)\n",
    "plt.show()"
   ]
  },
  {
   "cell_type": "code",
   "execution_count": 65,
   "id": "93a0e2cf",
   "metadata": {},
   "outputs": [
    {
     "data": {
      "image/png": "[encoded data removed]",
      "text/plain": [
       "<Figure size 432x288 with 1 Axes>"
      ]
     },
     "metadata": {
      "needs_background": "light"
     },
     "output_type": "display_data"
    }
   ],
   "source": [
    "plt.bar(train['holiday'].value_counts().index.astype(str), train['holiday'].value_counts().values)\n",
    "plt.title(\"holiday\")\n",
    "plt.show()"
   ]
  },
  {
   "cell_type": "markdown",
   "id": "821a893f",
   "metadata": {},
   "source": [
    "- 너무 불균형한 데이터! (꼭 타겟값이 아니여도 stratify로 조절해줄 수 있다.)"
   ]
  },
  {
   "cell_type": "markdown",
   "id": "cc01e84b",
   "metadata": {},
   "source": [
    "### weather은 어떤 값을 갖고, 각각의 데이터의 수는 얼마나 될까?"
   ]
  },
  {
   "cell_type": "code",
   "execution_count": 66,
   "id": "18759588",
   "metadata": {},
   "outputs": [
    {
     "data": {
      "text/plain": [
       "1    7192\n",
       "2    2834\n",
       "3     859\n",
       "4       1\n",
       "Name: weather, dtype: int64"
      ]
     },
     "execution_count": 66,
     "metadata": {},
     "output_type": "execute_result"
    }
   ],
   "source": [
    "train['weather'].value_counts()"
   ]
  },
  {
   "cell_type": "code",
   "execution_count": 67,
   "id": "fd25d73a",
   "metadata": {},
   "outputs": [
    {
     "data": {
      "text/plain": [
       "1    4221\n",
       "2    1710\n",
       "3     560\n",
       "4       2\n",
       "Name: weather, dtype: int64"
      ]
     },
     "execution_count": 67,
     "metadata": {},
     "output_type": "execute_result"
    }
   ],
   "source": [
    "test['weather'].value_counts()"
   ]
  },
  {
   "cell_type": "markdown",
   "id": "7ccc1c8c",
   "metadata": {},
   "source": [
    "- 엄청 비가 많이 올 때는 자전거 대여건수가 1건으로 매우 드물다. (거의 없다.)"
   ]
  },
  {
   "cell_type": "markdown",
   "id": "a3c89433",
   "metadata": {},
   "source": [
    "### 수치형 데이터의 분포?\n",
    "- temp의 값의 분포는 어떨까?\n",
    "- atemp의 값의 분포는 어떨까?\n",
    "- humidity의 값의 분포는 어떨까?\n",
    "- windspeed의 값의 분포는 어떨까?"
   ]
  },
  {
   "cell_type": "code",
   "execution_count": 81,
   "id": "0ee19800",
   "metadata": {},
   "outputs": [
    {
     "data": {
      "image/png": "[encoded data removed]",
      "text/plain": [
       "<Figure size 1080x720 with 4 Axes>"
      ]
     },
     "metadata": {
      "needs_background": "light"
     },
     "output_type": "display_data"
    }
   ],
   "source": [
    "plt.figure(figsize=(15,10))\n",
    "\n",
    "plt.subplot(2,2,1)\n",
    "plt.hist(train['temp'])\n",
    "plt.xlabel(\"temp\", size=17)\n",
    "\n",
    "plt.subplot(2,2,2)\n",
    "plt.hist(train['atemp'])\n",
    "plt.xlabel(\"atemp\", size=17)\n",
    "\n",
    "plt.subplot(2,2,3)\n",
    "plt.hist(train['humidity'])\n",
    "plt.xlabel(\"humidity\", size=17)\n",
    "\n",
    "plt.subplot(2,2,4)\n",
    "plt.hist(train['windspeed'])\n",
    "plt.xlabel(\"windspeed\", size=17)\n",
    "\n",
    "plt.show()"
   ]
  },
  {
   "cell_type": "markdown",
   "id": "a7e0a836",
   "metadata": {},
   "source": [
    "- temp와 atemp는 정규분포를 갖는다. (일반적인 데이터 셋)\n",
    "- humidity는 정규분포의 형태\n",
    "- windspped는 조금 불균형해 보인다."
   ]
  },
  {
   "cell_type": "markdown",
   "id": "96e2c82b",
   "metadata": {},
   "source": [
    "### weather별 데이터의 비율은 어느정도 될까?"
   ]
  },
  {
   "cell_type": "code",
   "execution_count": 76,
   "id": "b22e4faf",
   "metadata": {},
   "outputs": [
    {
     "name": "stdout",
     "output_type": "stream",
     "text": [
      "1    0.660665\n",
      "2    0.260334\n",
      "3    0.078909\n",
      "4    0.000092\n",
      "Name: weather, dtype: float64\n"
     ]
    }
   ],
   "source": [
    "print(train['weather'].value_counts() / train['weather'].shape[0])"
   ]
  },
  {
   "cell_type": "code",
   "execution_count": 79,
   "id": "5a23504c",
   "metadata": {},
   "outputs": [],
   "source": [
    "### 한글 폰트 설정\n",
    "import matplotlib\n",
    "from matplotlib import font_manager, rc\n",
    "import matplotlib.pyplot as plt\n",
    "import platform\n",
    "\n",
    "path = \"C:/Windows/Fonts/malgun.ttf\"\n",
    "if platform.system() == \"Windows\":\n",
    "    font_name = font_manager.FontProperties(fname=path).get_name()\n",
    "    rc('font', family=font_name)\n",
    "elif platform.system()==\"Darwin\":\n",
    "    rc('font', family='AppleGothic')\n",
    "else:\n",
    "    print(\"Unknown System\")\n",
    "    \n",
    "matplotlib.rcParams['axes.unicode_minus'] = False\n",
    "\n",
    "%matplotlib inline"
   ]
  },
  {
   "cell_type": "code",
   "execution_count": 80,
   "id": "bbb597cf",
   "metadata": {},
   "outputs": [
    {
     "data": {
      "image/png": "[encoded data removed]",
      "text/plain": [
       "<Figure size 720x720 with 1 Axes>"
      ]
     },
     "metadata": {},
     "output_type": "display_data"
    }
   ],
   "source": [
    "plt.figure(figsize=(10,10))\n",
    "ratio_ = train['weather'].value_counts() / train['weather'].shape[0] # 비율\n",
    "\n",
    "ratio_.index = ['봄', '여름', '가을', '겨울']\n",
    "plt.pie(ratio_.values, labels=ratio_.index)\n",
    "plt.legend(title='season')\n",
    "plt.show()"
   ]
  },
  {
   "cell_type": "markdown",
   "id": "e6b20ac3",
   "metadata": {},
   "source": [
    "### 기본 모델을 만들기 위해 피쳐 선택 등을 수행"
   ]
  },
  {
   "cell_type": "code",
   "execution_count": 82,
   "id": "71b0102e",
   "metadata": {},
   "outputs": [
    {
     "data": {
      "text/plain": [
       "Index(['datetime', 'season', 'holiday', 'workingday', 'weather', 'temp',\n",
       "       'atemp', 'humidity', 'windspeed', 'casual', 'registered', 'count'],\n",
       "      dtype='object')"
      ]
     },
     "execution_count": 82,
     "metadata": {},
     "output_type": "execute_result"
    }
   ],
   "source": [
    "train.columns"
   ]
  },
  {
   "cell_type": "code",
   "execution_count": 83,
   "id": "185d8403",
   "metadata": {},
   "outputs": [
    {
     "data": {
      "text/plain": [
       "Index(['datetime', 'season', 'holiday', 'workingday', 'weather', 'temp',\n",
       "       'atemp', 'humidity', 'windspeed'],\n",
       "      dtype='object')"
      ]
     },
     "execution_count": 83,
     "metadata": {},
     "output_type": "execute_result"
    }
   ],
   "source": [
    "test.columns"
   ]
  },
  {
   "cell_type": "code",
   "execution_count": 84,
   "id": "6b9e3750",
   "metadata": {},
   "outputs": [],
   "source": [
    "## 데이터 나누기 ( 입력, 출력 )\n",
    "## 모델 선택\n",
    "## 모델 학습\n",
    "## 모델 평가\n",
    "## 최종 모델로 예측"
   ]
  },
  {
   "cell_type": "code",
   "execution_count": 85,
   "id": "9841b948",
   "metadata": {},
   "outputs": [
    {
     "data": {
      "text/plain": [
       "season        0.163439\n",
       "holiday      -0.005393\n",
       "workingday    0.011594\n",
       "weather      -0.128655\n",
       "temp          0.394454\n",
       "atemp         0.389784\n",
       "humidity     -0.317371\n",
       "windspeed     0.101369\n",
       "casual        0.690414\n",
       "registered    0.970948\n",
       "count         1.000000\n",
       "Name: count, dtype: float64"
      ]
     },
     "execution_count": 85,
     "metadata": {},
     "output_type": "execute_result"
    }
   ],
   "source": [
    "train.corr()['count']"
   ]
  },
  {
   "cell_type": "code",
   "execution_count": 138,
   "id": "ff9557d7",
   "metadata": {},
   "outputs": [],
   "source": [
    "sel = ['season', 'weather', 'temp','atemp', 'humidity']\n",
    "\n",
    "X = train[sel]\n",
    "y = train['count']\n",
    "\n",
    "X_train, X_test, y_train, y_test = train_test_split(X, y, \n",
    "                                                   test_size = 0.3,\n",
    "                                                   random_state = 777)"
   ]
  },
  {
   "cell_type": "markdown",
   "id": "81f93002",
   "metadata": {},
   "source": [
    "### Linear Regression"
   ]
  },
  {
   "cell_type": "code",
   "execution_count": 139,
   "id": "c514163e",
   "metadata": {},
   "outputs": [
    {
     "data": {
      "text/plain": [
       "array([ 1.60490680e+02,  1.26763487e+02,  2.42571230e+02, -2.41098487e-01,\n",
       "        3.15592118e+02,  1.87424247e+02,  2.53658171e+02,  1.72376327e+02,\n",
       "        1.37216491e+02,  1.72576930e+02])"
      ]
     },
     "execution_count": 139,
     "metadata": {},
     "output_type": "execute_result"
    }
   ],
   "source": [
    "model = LinearRegression()\n",
    "model.fit(X_train, y_train)\n",
    "pred = model.predict(X_test)\n",
    "pred[0:10]"
   ]
  },
  {
   "cell_type": "code",
   "execution_count": 140,
   "id": "ddb23806",
   "metadata": {},
   "outputs": [
    {
     "name": "stdout",
     "output_type": "stream",
     "text": [
      "학습용 데이터 셋 평가 :  0.2595443137000395\n",
      "테스트용 데이터 셋 평가 : 0.2602968498048581\n"
     ]
    }
   ],
   "source": [
    "# 평가 (model score) -- 결정계수\n",
    "print('학습용 데이터 셋 평가 : ', model.score(X_train, y_train)) \n",
    "print('테스트용 데이터 셋 평가 :', model.score(X_test, y_test)) # 자체평가 (결정계수)"
   ]
  },
  {
   "cell_type": "code",
   "execution_count": 141,
   "id": "8f29ee38",
   "metadata": {},
   "outputs": [
    {
     "data": {
      "text/plain": [
       "24693.07569208965"
      ]
     },
     "execution_count": 141,
     "metadata": {},
     "output_type": "execute_result"
    }
   ],
   "source": [
    "### MSE 평가지표로 평가해보기\n",
    "np.sum((pred - y_test)**2) / len(pred)"
   ]
  },
  {
   "cell_type": "code",
   "execution_count": 142,
   "id": "fa4cc49a",
   "metadata": {},
   "outputs": [
    {
     "data": {
      "text/plain": [
       "24693.07569208965"
      ]
     },
     "execution_count": 142,
     "metadata": {},
     "output_type": "execute_result"
    }
   ],
   "source": [
    "from sklearn.metrics import mean_squared_error\n",
    "\n",
    "mean_squared_error(pred, y_test)"
   ]
  },
  {
   "cell_type": "markdown",
   "id": "2fb72470",
   "metadata": {},
   "source": [
    "### 의사결정트리"
   ]
  },
  {
   "cell_type": "code",
   "execution_count": 146,
   "id": "d2a4f757",
   "metadata": {},
   "outputs": [],
   "source": [
    "model_tree = DecisionTreeRegressor(max_depth=4, random_state = 77)\n",
    "model_tree.fit(X_train, y_train)\n",
    "pred_tree = model_tree.predict(X_test)"
   ]
  },
  {
   "cell_type": "code",
   "execution_count": 147,
   "id": "3be9bbc8",
   "metadata": {},
   "outputs": [
    {
     "name": "stdout",
     "output_type": "stream",
     "text": [
      "학습용 데이터 셋 평가 :  0.27734564672578554\n",
      "테스트 데이터 셋 평가 :  0.2568060538645752\n"
     ]
    }
   ],
   "source": [
    "# 결정계수\n",
    "print('학습용 데이터 셋 평가 : ', model_tree.score(X_train, y_train))\n",
    "print('테스트 데이터 셋 평가 : ', model_tree.score(X_test, y_test))"
   ]
  },
  {
   "cell_type": "code",
   "execution_count": 148,
   "id": "82908191",
   "metadata": {},
   "outputs": [
    {
     "data": {
      "text/plain": [
       "24809.6068821438"
      ]
     },
     "execution_count": 148,
     "metadata": {},
     "output_type": "execute_result"
    }
   ],
   "source": [
    "from sklearn.metrics import mean_squared_error\n",
    "mean_squared_error(pred_tree, y_test)"
   ]
  },
  {
   "cell_type": "markdown",
   "id": "2e6a3ac1",
   "metadata": {},
   "source": [
    "### 앙상블 학습"
   ]
  },
  {
   "cell_type": "code",
   "execution_count": 156,
   "id": "164c4ae0",
   "metadata": {},
   "outputs": [],
   "source": [
    "from sklearn.ensemble import RandomForestRegressor"
   ]
  },
  {
   "cell_type": "code",
   "execution_count": 164,
   "id": "f9acc3d6",
   "metadata": {},
   "outputs": [
    {
     "data": {
      "text/plain": [
       "array([203.55314822, 132.05378079, 211.86470811,  70.9224641 ,\n",
       "       322.93539549, 242.27436507, 260.84044111, 109.21091962,\n",
       "        79.67233132, 162.33671828])"
      ]
     },
     "execution_count": 164,
     "metadata": {},
     "output_type": "execute_result"
    }
   ],
   "source": [
    "model_rf = RandomForestRegressor(max_depth = 4, random_state=77)\n",
    "model_rf.fit(X_train, y_train)\n",
    "pred = model_rf.predict(X_test)\n",
    "pred[0:10]"
   ]
  },
  {
   "cell_type": "code",
   "execution_count": 165,
   "id": "0a69e29b",
   "metadata": {},
   "outputs": [
    {
     "name": "stdout",
     "output_type": "stream",
     "text": [
      "학습용 데이터 셋 평가 :  0.29189453147487\n",
      "테스트용 데이터 셋 평가 :  0.27618446105265027\n"
     ]
    }
   ],
   "source": [
    "print('학습용 데이터 셋 평가 : ', model_rf.score(X_train, y_train))\n",
    "print('테스트용 데이터 셋 평가 : ', model_rf.score(X_test, y_test))"
   ]
  },
  {
   "cell_type": "code",
   "execution_count": 166,
   "id": "e3da0eb5",
   "metadata": {},
   "outputs": [
    {
     "data": {
      "text/plain": [
       "24162.708899674704"
      ]
     },
     "execution_count": 166,
     "metadata": {},
     "output_type": "execute_result"
    }
   ],
   "source": [
    "from sklearn.metrics import mean_squared_error\n",
    "\n",
    "mean_squared_error(pred, y_test)"
   ]
  },
  {
   "cell_type": "markdown",
   "id": "d13ab149",
   "metadata": {},
   "source": [
    "3개의 모델의 비교 결과 앙상블 모델(RandomForestRegressor)이 가장 좋다."
   ]
  },
  {
   "cell_type": "markdown",
   "id": "f46a9b95",
   "metadata": {},
   "source": [
    "### 최종 모델"
   ]
  },
  {
   "cell_type": "code",
   "execution_count": 154,
   "id": "ea690282",
   "metadata": {},
   "outputs": [
    {
     "data": {
      "text/plain": [
       "['season', 'weather', 'temp', 'atemp', 'humidity']"
      ]
     },
     "execution_count": 154,
     "metadata": {},
     "output_type": "execute_result"
    }
   ],
   "source": [
    "sel"
   ]
  },
  {
   "cell_type": "markdown",
   "id": "4139b9bc",
   "metadata": {},
   "source": [
    "### 제출용 파일 만들기"
   ]
  },
  {
   "cell_type": "code",
   "execution_count": 170,
   "id": "788fc417",
   "metadata": {},
   "outputs": [
    {
     "data": {
      "text/plain": [
       "((6493, 9), (6493, 2))"
      ]
     },
     "execution_count": 170,
     "metadata": {},
     "output_type": "execute_result"
    }
   ],
   "source": [
    "test.shape, sub.shape"
   ]
  },
  {
   "cell_type": "code",
   "execution_count": 173,
   "id": "6fe78ba9",
   "metadata": {},
   "outputs": [
    {
     "data": {
      "text/plain": [
       "['season', 'weather', 'temp', 'atemp', 'humidity']"
      ]
     },
     "execution_count": 173,
     "metadata": {},
     "output_type": "execute_result"
    }
   ],
   "source": [
    "sel"
   ]
  },
  {
   "cell_type": "code",
   "execution_count": 174,
   "id": "6f63eaf2",
   "metadata": {},
   "outputs": [],
   "source": [
    "test_last = test[sel]"
   ]
  },
  {
   "cell_type": "code",
   "execution_count": null,
   "id": "2a3ff82e",
   "metadata": {},
   "outputs": [],
   "source": [
    "model_final = RandomForestRegressor(max_depth=4, random_state=77)\n",
    "model_final."
   ]
  },
  {
   "cell_type": "code",
   "execution_count": 169,
   "id": "c21392ae",
   "metadata": {},
   "outputs": [],
   "source": [
    "# 아멕스?\n",
    "# 대용량 데이터 (파일 바꾸는 샘플코드 찾고)\n",
    "# 파일 바꾸고 , 파일 용량 줄이고, 이후부터 코드는 많다.\n",
    "# 배운 걸 토대로 공부해보는 게 좋겠다. ( Light GBM은 나중에) ,, 점수 올라가는 단계로\n",
    "\n",
    "# 어느정도 올라가면 다양한 기법으로 방향을 잡고...했으면 좋겠다."
   ]
  },
  {
   "cell_type": "code",
   "execution_count": 175,
   "id": "458988fe",
   "metadata": {},
   "outputs": [],
   "source": [
    "# 기존 것은 마무리 짓고 목요일부터는 기술적인 부분 ...\n",
    "# 피피티도 기본 이상이 되면 좋겠다...!"
   ]
  },
  {
   "cell_type": "code",
   "execution_count": null,
   "id": "29cbd812",
   "metadata": {},
   "outputs": [],
   "source": [
    "# Notion으로 다음 중간 발표로 할 것.!"
   ]
  }
 ],
 "metadata": {
  "kernelspec": {
   "display_name": "Python 3 (ipykernel)",
   "language": "python",
   "name": "python3"
  },
  "language_info": {
   "codemirror_mode": {
    "name": "ipython",
    "version": 3
   },
   "file_extension": ".py",
   "mimetype": "text/x-python",
   "name": "python",
   "nbconvert_exporter": "python",
   "pygments_lexer": "ipython3",
   "version": "3.8.11"
  }
 },
 "nbformat": 4,
 "nbformat_minor": 5
}
