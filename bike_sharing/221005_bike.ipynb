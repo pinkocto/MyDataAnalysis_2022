{
 "cells": [
  {
   "cell_type": "markdown",
   "id": "5ebfb62b",
   "metadata": {},
   "source": [
    "# Bike Sharig"
   ]
  },
  {
   "cell_type": "code",
   "execution_count": 55,
   "id": "e49a6ee6",
   "metadata": {},
   "outputs": [],
   "source": [
    "import pandas as pd\n",
    "import matplotlib.pyplot as plt\n",
    "import seaborn as sns\n",
    "import numpy as np\n",
    "\n",
    "from sklearn.neighbors import KNeighborsRegressor\n",
    "from sklearn.linear_model import LinearRegression\n",
    "from sklearn.tree import DecisionTreeRegressor\n",
    "from sklearn.ensemble import RandomForestRegressor\n",
    "\n",
    "from sklearn.model_selection import train_test_split"
   ]
  },
  {
   "cell_type": "code",
   "execution_count": 2,
   "id": "83d1b97d",
   "metadata": {},
   "outputs": [
    {
     "data": {
      "text/plain": [
       "((10886, 12), (6493, 9), (6493, 2))"
      ]
     },
     "execution_count": 2,
     "metadata": {},
     "output_type": "execute_result"
    }
   ],
   "source": [
    "train = pd.read_csv('./train.csv', parse_dates=['datetime']) # 시간을 시간 자료형으로 불러오기\n",
    "test = pd.read_csv('./test.csv', parse_dates=['datetime'])\n",
    "sub = pd.read_csv('./sampleSubmission.csv')\n",
    "\n",
    "train.shape, test.shape, sub.shape"
   ]
  },
  {
   "cell_type": "code",
   "execution_count": 3,
   "id": "f86f84e8",
   "metadata": {},
   "outputs": [
    {
     "data": {
      "text/plain": [
       "((10886, 12), (6493, 9), (6493, 2))"
      ]
     },
     "execution_count": 3,
     "metadata": {},
     "output_type": "execute_result"
    }
   ],
   "source": [
    "train.shape, test.shape, sub.shape"
   ]
  },
  {
   "cell_type": "code",
   "execution_count": 68,
   "id": "f7ff6285",
   "metadata": {},
   "outputs": [],
   "source": [
    "# f_names = ['temp', 'atemp']\n",
    "f_names = ['season','weather','temp']\n",
    "X_tr_all = train[f_names]\n",
    "y_tr_all = train['count']\n",
    "\n",
    "last_X_test = test[f_names]"
   ]
  },
  {
   "cell_type": "code",
   "execution_count": 69,
   "id": "4ae69389",
   "metadata": {},
   "outputs": [],
   "source": [
    "from sklearn.model_selection import train_test_split"
   ]
  },
  {
   "cell_type": "code",
   "execution_count": 70,
   "id": "0fd0ef84",
   "metadata": {},
   "outputs": [],
   "source": [
    "X_train, X_test, y_train, y_test = train_test_split(X_tr_all,\n",
    "                                                   y_tr_all,\n",
    "                                                   test_size=.3,\n",
    "                                                   random_state=77)"
   ]
  },
  {
   "cell_type": "code",
   "execution_count": 71,
   "id": "9ab5966c",
   "metadata": {},
   "outputs": [],
   "source": [
    "from sklearn.linear_model import LinearRegression"
   ]
  },
  {
   "cell_type": "code",
   "execution_count": 72,
   "id": "b4893acc",
   "metadata": {},
   "outputs": [
    {
     "name": "stdout",
     "output_type": "stream",
     "text": [
      "학습용 세트 결정계수 : 0.175\n",
      "테스트 세트 결정계수 : 0.163\n"
     ]
    },
    {
     "data": {
      "text/plain": [
       "array([207.35014841, 159.81017357, 235.16616427, ..., 145.59903806,\n",
       "       182.62193532,  53.83291236])"
      ]
     },
     "execution_count": 72,
     "metadata": {},
     "output_type": "execute_result"
    }
   ],
   "source": [
    "model = LinearRegression()\n",
    "model.fit(X_train, y_train)\n",
    "\n",
    "# score()함수를 이용 - 결정계수 확인\n",
    "print(\"학습용 세트 결정계수 : {:.3f}\".format(model.score(X_train, y_train)))\n",
    "print(\"테스트 세트 결정계수 : {:.3f}\".format(model.score(X_test, y_test)))\n",
    "\n",
    "model.predict(X_test)         # 예측(새로운 데이터로)"
   ]
  },
  {
   "cell_type": "code",
   "execution_count": 10,
   "id": "08dbc697",
   "metadata": {},
   "outputs": [
    {
     "name": "stdout",
     "output_type": "stream",
     "text": [
      "[8.18286924 0.99950771]\n",
      "3.881202374195226\n"
     ]
    }
   ],
   "source": [
    "print( model.coef_ )         # 모델(선형회귀의 계수)\n",
    "print( model.intercept_)     # 모델(선형 회귀의 교차점)"
   ]
  },
  {
   "cell_type": "code",
   "execution_count": 11,
   "id": "c670c50c",
   "metadata": {},
   "outputs": [
    {
     "data": {
      "text/html": [
       "<div>\n",
       "<style scoped>\n",
       "    .dataframe tbody tr th:only-of-type {\n",
       "        vertical-align: middle;\n",
       "    }\n",
       "\n",
       "    .dataframe tbody tr th {\n",
       "        vertical-align: top;\n",
       "    }\n",
       "\n",
       "    .dataframe thead th {\n",
       "        text-align: right;\n",
       "    }\n",
       "</style>\n",
       "<table border=\"1\" class=\"dataframe\">\n",
       "  <thead>\n",
       "    <tr style=\"text-align: right;\">\n",
       "      <th></th>\n",
       "      <th>datetime</th>\n",
       "      <th>count</th>\n",
       "    </tr>\n",
       "  </thead>\n",
       "  <tbody>\n",
       "    <tr>\n",
       "      <th>0</th>\n",
       "      <td>2011-01-20 00:00:00</td>\n",
       "      <td>102.469994</td>\n",
       "    </tr>\n",
       "    <tr>\n",
       "      <th>1</th>\n",
       "      <td>2011-01-20 01:00:00</td>\n",
       "      <td>104.738876</td>\n",
       "    </tr>\n",
       "    <tr>\n",
       "      <th>2</th>\n",
       "      <td>2011-01-20 02:00:00</td>\n",
       "      <td>104.738876</td>\n",
       "    </tr>\n",
       "    <tr>\n",
       "      <th>3</th>\n",
       "      <td>2011-01-20 03:00:00</td>\n",
       "      <td>103.984248</td>\n",
       "    </tr>\n",
       "    <tr>\n",
       "      <th>4</th>\n",
       "      <td>2011-01-20 04:00:00</td>\n",
       "      <td>103.984248</td>\n",
       "    </tr>\n",
       "    <tr>\n",
       "      <th>...</th>\n",
       "      <td>...</td>\n",
       "      <td>...</td>\n",
       "    </tr>\n",
       "    <tr>\n",
       "      <th>6488</th>\n",
       "      <td>2012-12-31 19:00:00</td>\n",
       "      <td>103.984248</td>\n",
       "    </tr>\n",
       "    <tr>\n",
       "      <th>6489</th>\n",
       "      <td>2012-12-31 20:00:00</td>\n",
       "      <td>103.984248</td>\n",
       "    </tr>\n",
       "    <tr>\n",
       "      <th>6490</th>\n",
       "      <td>2012-12-31 21:00:00</td>\n",
       "      <td>103.984248</td>\n",
       "    </tr>\n",
       "    <tr>\n",
       "      <th>6491</th>\n",
       "      <td>2012-12-31 22:00:00</td>\n",
       "      <td>104.738876</td>\n",
       "    </tr>\n",
       "    <tr>\n",
       "      <th>6492</th>\n",
       "      <td>2012-12-31 23:00:00</td>\n",
       "      <td>104.738876</td>\n",
       "    </tr>\n",
       "  </tbody>\n",
       "</table>\n",
       "<p>6493 rows × 2 columns</p>\n",
       "</div>"
      ],
      "text/plain": [
       "                 datetime       count\n",
       "0     2011-01-20 00:00:00  102.469994\n",
       "1     2011-01-20 01:00:00  104.738876\n",
       "2     2011-01-20 02:00:00  104.738876\n",
       "3     2011-01-20 03:00:00  103.984248\n",
       "4     2011-01-20 04:00:00  103.984248\n",
       "...                   ...         ...\n",
       "6488  2012-12-31 19:00:00  103.984248\n",
       "6489  2012-12-31 20:00:00  103.984248\n",
       "6490  2012-12-31 21:00:00  103.984248\n",
       "6491  2012-12-31 22:00:00  104.738876\n",
       "6492  2012-12-31 23:00:00  104.738876\n",
       "\n",
       "[6493 rows x 2 columns]"
      ]
     },
     "execution_count": 11,
     "metadata": {},
     "output_type": "execute_result"
    }
   ],
   "source": [
    "pred = model.predict(last_X_test)   # 예측\n",
    "sub['count'] = pred\n",
    "sub"
   ]
  },
  {
   "cell_type": "code",
   "execution_count": 12,
   "id": "6da32cba",
   "metadata": {},
   "outputs": [],
   "source": [
    "# 처음 만는 제출용 csv 파일, 행번호를 없애기\n",
    "sub.to_csv(\"firstsubmission.csv\", index=False)"
   ]
  },
  {
   "cell_type": "markdown",
   "id": "c1c549c0",
   "metadata": {},
   "source": [
    "### 모델 피처 추가해서 평가해보기"
   ]
  },
  {
   "cell_type": "code",
   "execution_count": 13,
   "id": "5a932042",
   "metadata": {},
   "outputs": [],
   "source": [
    "f_names = ['season', 'holiday', 'workingday', 'weather', 'temp', \n",
    "           'atemp', 'humidity', 'windspeed']\n",
    "X_tr_all = train[f_names]         # 학습용 데이터의 변수 선택 \n",
    "last_X_test = test[f_names]       # 테스트 데이터의 변수 선택 \n",
    "\n",
    "y_tr_all = train['count']"
   ]
  },
  {
   "cell_type": "code",
   "execution_count": 14,
   "id": "7c7cb258",
   "metadata": {},
   "outputs": [],
   "source": [
    "from sklearn.model_selection import train_test_split\n",
    "\n",
    "X_train, X_test, y_train, y_test = train_test_split(X_tr_all, \n",
    "                                                    y_tr_all,\n",
    "                                                    test_size=0.3,\n",
    "                                                    random_state=77)"
   ]
  },
  {
   "cell_type": "code",
   "execution_count": 15,
   "id": "ad9a4c54",
   "metadata": {},
   "outputs": [
    {
     "name": "stdout",
     "output_type": "stream",
     "text": [
      "학습용 세트 결정계수: 0.262\n",
      "테스트 세트 결정계수: 0.257\n"
     ]
    }
   ],
   "source": [
    "model = LinearRegression()\n",
    "model.fit(X_train, y_train)\n",
    "\n",
    "# 결정계수 확인\n",
    "print(\"학습용 세트 결정계수: {:.3f}\".format(model.score(X_train, y_train)))\n",
    "print(\"테스트 세트 결정계수: {:.3f}\".format(model.score(X_test, y_test)))"
   ]
  },
  {
   "cell_type": "code",
   "execution_count": null,
   "id": "837325d8",
   "metadata": {},
   "outputs": [],
   "source": [
    "# mse 값 출력 (추가)\n",
    "from sklearn.metrics import mean_squared_error\n",
    "\n",
    "mean_squared_error(pred, y_test)"
   ]
  },
  {
   "cell_type": "markdown",
   "id": "0ef4a954",
   "metadata": {},
   "source": [
    "### 몇개의 피처를 상호간의 연산을 통해 여러개의 피처 만들기"
   ]
  },
  {
   "cell_type": "code",
   "execution_count": 20,
   "id": "5daf940f",
   "metadata": {},
   "outputs": [],
   "source": [
    "from sklearn.preprocessing import PolynomialFeatures"
   ]
  },
  {
   "cell_type": "code",
   "execution_count": 21,
   "id": "6e5562c2",
   "metadata": {},
   "outputs": [],
   "source": [
    "sel = ['season','weather','temp']\n",
    "\n",
    "X_tr = train[sel]\n",
    "y = train['count']\n",
    "\n",
    "train_X_test = test[sel]"
   ]
  },
  {
   "cell_type": "code",
   "execution_count": 22,
   "id": "bcf4104d",
   "metadata": {},
   "outputs": [
    {
     "data": {
      "text/plain": [
       "((10886, 3), (10886, 9))"
      ]
     },
     "execution_count": 22,
     "metadata": {},
     "output_type": "execute_result"
    }
   ],
   "source": [
    "ex_X_tr = PolynomialFeatures(degree=2, include_bias=False).fit_transform(X_tr)\n",
    "\n",
    "X_tr.shape, ex_X_tr.shape\n"
   ]
  },
  {
   "cell_type": "code",
   "execution_count": 24,
   "id": "dc8cad21",
   "metadata": {},
   "outputs": [
    {
     "data": {
      "text/plain": [
       "((10886, 3), (10886, 19))"
      ]
     },
     "execution_count": 24,
     "metadata": {},
     "output_type": "execute_result"
    }
   ],
   "source": [
    "ex_X2_tr = PolynomialFeatures(degree=3, include_bias=False).fit_transform(X_tr)\n",
    "\n",
    "X_tr.shape, ex_X2_tr.shape"
   ]
  },
  {
   "cell_type": "code",
   "execution_count": 25,
   "id": "793f2894",
   "metadata": {},
   "outputs": [],
   "source": [
    "X_train, X_test, y_train, y_test = train_test_split(ex_X_tr, y, test_size=0.3, random_state = 77)"
   ]
  },
  {
   "cell_type": "code",
   "execution_count": 26,
   "id": "14e2d667",
   "metadata": {},
   "outputs": [
    {
     "name": "stdout",
     "output_type": "stream",
     "text": [
      "학습용 세트 결정계수: 0.199\n",
      "테스트 세트 결정계수: 0.182\n"
     ]
    }
   ],
   "source": [
    "model = LinearRegression()\n",
    "model.fit(X_train, y_train)\n",
    "\n",
    "# 결정계수 확인\n",
    "print(\"학습용 세트 결정계수: {:.3f}\".format(model.score(X_train, y_train)))\n",
    "print(\"테스트 세트 결정계수: {:.3f}\".format(model.score(X_test, y_test)))"
   ]
  },
  {
   "cell_type": "markdown",
   "id": "4f57fa25",
   "metadata": {},
   "source": [
    "- 3개의 피처의 모델에 비해 성능이 개선되었다. (9개의 피처를 사용)"
   ]
  },
  {
   "cell_type": "markdown",
   "id": "be597f0a",
   "metadata": {},
   "source": [
    "```\n",
    "학습용 세트 결정계수 : 0.175\n",
    "테스트 세트 결정계수 : 0.163\n",
    "```"
   ]
  },
  {
   "cell_type": "markdown",
   "id": "9495b26c",
   "metadata": {},
   "source": [
    "### 기존의 8개의 피처의 성능\n",
    "```\n",
    " 학습용 세트 결정계수 : 0.262\n",
    " 테스트 세트 결정계수 : 0.257\n",
    " ```"
   ]
  },
  {
   "cell_type": "markdown",
   "id": "d0d74be5",
   "metadata": {},
   "source": [
    "### 8개의 피처에 다항회귀를 통한 피처 생성 후, 성능 확인해보기"
   ]
  },
  {
   "cell_type": "code",
   "execution_count": 40,
   "id": "e55a673f",
   "metadata": {},
   "outputs": [],
   "source": [
    "f_names = ['season', 'holiday', 'workingday', 'weather', 'temp', \n",
    "           'atemp', 'humidity', 'windspeed']\n",
    "X_tr_all = train[f_names]         # 학습용 데이터의 변수 선택 \n",
    "last_X_test = test[f_names]       # 테스트 데이터의 변수 선택 \n",
    "\n",
    "y_tr_all = train['count']"
   ]
  },
  {
   "cell_type": "code",
   "execution_count": 49,
   "id": "6c1f8546",
   "metadata": {},
   "outputs": [],
   "source": [
    "X_train, X_test, y_train, y_test = train_test_split(ex_X_tr, \n",
    "                                                    y,\n",
    "                                                    test_size=0.3,\n",
    "                                                    random_state=77)"
   ]
  },
  {
   "cell_type": "code",
   "execution_count": 50,
   "id": "e1f2c90d",
   "metadata": {},
   "outputs": [
    {
     "data": {
      "text/plain": [
       "((10886, 8), (10886, 164))"
      ]
     },
     "execution_count": 50,
     "metadata": {},
     "output_type": "execute_result"
    }
   ],
   "source": [
    "# degree = 2\n",
    "ex_X_tr = PolynomialFeatures(degree=3, include_bias=False).fit_transform(X_tr_all)\n",
    "\n",
    "X_tr_all.shape, ex_X_tr.shape"
   ]
  },
  {
   "cell_type": "code",
   "execution_count": 51,
   "id": "0048e794",
   "metadata": {},
   "outputs": [
    {
     "name": "stdout",
     "output_type": "stream",
     "text": [
      "학습용 세트 정확도: 0.338\n",
      "테스트 세트 정확도: 0.326\n"
     ]
    }
   ],
   "source": [
    "model = LinearRegression()\n",
    "model.fit(X_train, y_train)\n",
    "\n",
    "# score()함수를 이용 - 결정계수 확인\n",
    "print(\"학습용 세트 정확도: {:.3f}\".format(model.score(X_train, y_train)))\n",
    "print(\"테스트 세트 정확도: {:.3f}\".format(model.score(X_test, y_test)))"
   ]
  },
  {
   "cell_type": "code",
   "execution_count": 52,
   "id": "f2dcc623",
   "metadata": {},
   "outputs": [],
   "source": [
    "# degree=3일때가 degree=2일 때보다 성능이 좀 더 좋아졌다."
   ]
  },
  {
   "cell_type": "code",
   "execution_count": 57,
   "id": "be5e8981",
   "metadata": {},
   "outputs": [
    {
     "name": "stdout",
     "output_type": "stream",
     "text": [
      "학습용 세트 정확도: 0.856\n",
      "테스트 세트 정확도: 0.300\n"
     ]
    }
   ],
   "source": [
    "#model = DecisionTreeRegressor()\n",
    "model = RandomForestRegressor()\n",
    "model.fit(X_train, y_train)\n",
    "\n",
    "print(\"학습용 세트 결정계수: {:.3f}\".format(model.score(X_train, y_train)))\n",
    "print(\"테스트 세트 결정계수: {:.3f}\".format(model.score(X_test, y_test)))"
   ]
  },
  {
   "cell_type": "markdown",
   "id": "08bdc6fa",
   "metadata": {},
   "source": [
    "### 정규화"
   ]
  },
  {
   "cell_type": "code",
   "execution_count": 58,
   "id": "ad3e20b9",
   "metadata": {},
   "outputs": [],
   "source": [
    "from sklearn.preprocessing import MinMaxScaler\n",
    "from sklearn.preprocessing import PolynomialFeatures"
   ]
  },
  {
   "cell_type": "code",
   "execution_count": 59,
   "id": "54d3e777",
   "metadata": {},
   "outputs": [
    {
     "data": {
      "text/plain": [
       "Index(['datetime', 'season', 'holiday', 'workingday', 'weather', 'temp',\n",
       "       'atemp', 'humidity', 'windspeed', 'casual', 'registered', 'count'],\n",
       "      dtype='object')"
      ]
     },
     "execution_count": 59,
     "metadata": {},
     "output_type": "execute_result"
    }
   ],
   "source": [
    "train.columns"
   ]
  },
  {
   "cell_type": "code",
   "execution_count": 60,
   "id": "882c88b0",
   "metadata": {},
   "outputs": [],
   "source": [
    "sel = ['season','weather','temp']\n",
    "\n",
    "X_tr_all = train[sel]"
   ]
  },
  {
   "cell_type": "code",
   "execution_count": 61,
   "id": "475401f7",
   "metadata": {},
   "outputs": [
    {
     "data": {
      "text/html": [
       "<div>\n",
       "<style scoped>\n",
       "    .dataframe tbody tr th:only-of-type {\n",
       "        vertical-align: middle;\n",
       "    }\n",
       "\n",
       "    .dataframe tbody tr th {\n",
       "        vertical-align: top;\n",
       "    }\n",
       "\n",
       "    .dataframe thead th {\n",
       "        text-align: right;\n",
       "    }\n",
       "</style>\n",
       "<table border=\"1\" class=\"dataframe\">\n",
       "  <thead>\n",
       "    <tr style=\"text-align: right;\">\n",
       "      <th></th>\n",
       "      <th>season</th>\n",
       "      <th>weather</th>\n",
       "      <th>temp</th>\n",
       "    </tr>\n",
       "  </thead>\n",
       "  <tbody>\n",
       "    <tr>\n",
       "      <th>count</th>\n",
       "      <td>10886.000000</td>\n",
       "      <td>10886.000000</td>\n",
       "      <td>10886.00000</td>\n",
       "    </tr>\n",
       "    <tr>\n",
       "      <th>mean</th>\n",
       "      <td>2.506614</td>\n",
       "      <td>1.418427</td>\n",
       "      <td>20.23086</td>\n",
       "    </tr>\n",
       "    <tr>\n",
       "      <th>std</th>\n",
       "      <td>1.116174</td>\n",
       "      <td>0.633839</td>\n",
       "      <td>7.79159</td>\n",
       "    </tr>\n",
       "    <tr>\n",
       "      <th>min</th>\n",
       "      <td>1.000000</td>\n",
       "      <td>1.000000</td>\n",
       "      <td>0.82000</td>\n",
       "    </tr>\n",
       "    <tr>\n",
       "      <th>25%</th>\n",
       "      <td>2.000000</td>\n",
       "      <td>1.000000</td>\n",
       "      <td>13.94000</td>\n",
       "    </tr>\n",
       "    <tr>\n",
       "      <th>50%</th>\n",
       "      <td>3.000000</td>\n",
       "      <td>1.000000</td>\n",
       "      <td>20.50000</td>\n",
       "    </tr>\n",
       "    <tr>\n",
       "      <th>75%</th>\n",
       "      <td>4.000000</td>\n",
       "      <td>2.000000</td>\n",
       "      <td>26.24000</td>\n",
       "    </tr>\n",
       "    <tr>\n",
       "      <th>max</th>\n",
       "      <td>4.000000</td>\n",
       "      <td>4.000000</td>\n",
       "      <td>41.00000</td>\n",
       "    </tr>\n",
       "  </tbody>\n",
       "</table>\n",
       "</div>"
      ],
      "text/plain": [
       "             season       weather         temp\n",
       "count  10886.000000  10886.000000  10886.00000\n",
       "mean       2.506614      1.418427     20.23086\n",
       "std        1.116174      0.633839      7.79159\n",
       "min        1.000000      1.000000      0.82000\n",
       "25%        2.000000      1.000000     13.94000\n",
       "50%        3.000000      1.000000     20.50000\n",
       "75%        4.000000      2.000000     26.24000\n",
       "max        4.000000      4.000000     41.00000"
      ]
     },
     "execution_count": 61,
     "metadata": {},
     "output_type": "execute_result"
    }
   ],
   "source": [
    "X_tr_all.describe()"
   ]
  },
  {
   "cell_type": "code",
   "execution_count": 63,
   "id": "1d7ac228",
   "metadata": {},
   "outputs": [],
   "source": [
    "X_train, X_test, y_train, y_test = train_test_split(X_tr_all,\n",
    "                                                    y_tr_all,\n",
    "                                                   test_size=0.3,\n",
    "                                                   random_state=77)"
   ]
  },
  {
   "cell_type": "code",
   "execution_count": 64,
   "id": "5e557ec7",
   "metadata": {},
   "outputs": [],
   "source": [
    "scaler = MinMaxScaler().fit(X_train)\n",
    "nor_X_tr_all = scaler.transform(X_tr_all)\n",
    "y_tr_all = train['count']\n",
    "\n",
    "last_X_test = test[sel]"
   ]
  },
  {
   "cell_type": "code",
   "execution_count": 65,
   "id": "e49d7624",
   "metadata": {},
   "outputs": [],
   "source": [
    "from sklearn.linear_model import LinearRegression"
   ]
  },
  {
   "cell_type": "code",
   "execution_count": 66,
   "id": "58f37fc2",
   "metadata": {},
   "outputs": [
    {
     "data": {
      "text/html": [
       "<style>#sk-container-id-1 {color: black;background-color: white;}#sk-container-id-1 pre{padding: 0;}#sk-container-id-1 div.sk-toggleable {background-color: white;}#sk-container-id-1 label.sk-toggleable__label {cursor: pointer;display: block;width: 100%;margin-bottom: 0;padding: 0.3em;box-sizing: border-box;text-align: center;}#sk-container-id-1 label.sk-toggleable__label-arrow:before {content: \"▸\";float: left;margin-right: 0.25em;color: #696969;}#sk-container-id-1 label.sk-toggleable__label-arrow:hover:before {color: black;}#sk-container-id-1 div.sk-estimator:hover label.sk-toggleable__label-arrow:before {color: black;}#sk-container-id-1 div.sk-toggleable__content {max-height: 0;max-width: 0;overflow: hidden;text-align: left;background-color: #f0f8ff;}#sk-container-id-1 div.sk-toggleable__content pre {margin: 0.2em;color: black;border-radius: 0.25em;background-color: #f0f8ff;}#sk-container-id-1 input.sk-toggleable__control:checked~div.sk-toggleable__content {max-height: 200px;max-width: 100%;overflow: auto;}#sk-container-id-1 input.sk-toggleable__control:checked~label.sk-toggleable__label-arrow:before {content: \"▾\";}#sk-container-id-1 div.sk-estimator input.sk-toggleable__control:checked~label.sk-toggleable__label {background-color: #d4ebff;}#sk-container-id-1 div.sk-label input.sk-toggleable__control:checked~label.sk-toggleable__label {background-color: #d4ebff;}#sk-container-id-1 input.sk-hidden--visually {border: 0;clip: rect(1px 1px 1px 1px);clip: rect(1px, 1px, 1px, 1px);height: 1px;margin: -1px;overflow: hidden;padding: 0;position: absolute;width: 1px;}#sk-container-id-1 div.sk-estimator {font-family: monospace;background-color: #f0f8ff;border: 1px dotted black;border-radius: 0.25em;box-sizing: border-box;margin-bottom: 0.5em;}#sk-container-id-1 div.sk-estimator:hover {background-color: #d4ebff;}#sk-container-id-1 div.sk-parallel-item::after {content: \"\";width: 100%;border-bottom: 1px solid gray;flex-grow: 1;}#sk-container-id-1 div.sk-label:hover label.sk-toggleable__label {background-color: #d4ebff;}#sk-container-id-1 div.sk-serial::before {content: \"\";position: absolute;border-left: 1px solid gray;box-sizing: border-box;top: 0;bottom: 0;left: 50%;z-index: 0;}#sk-container-id-1 div.sk-serial {display: flex;flex-direction: column;align-items: center;background-color: white;padding-right: 0.2em;padding-left: 0.2em;position: relative;}#sk-container-id-1 div.sk-item {position: relative;z-index: 1;}#sk-container-id-1 div.sk-parallel {display: flex;align-items: stretch;justify-content: center;background-color: white;position: relative;}#sk-container-id-1 div.sk-item::before, #sk-container-id-1 div.sk-parallel-item::before {content: \"\";position: absolute;border-left: 1px solid gray;box-sizing: border-box;top: 0;bottom: 0;left: 50%;z-index: -1;}#sk-container-id-1 div.sk-parallel-item {display: flex;flex-direction: column;z-index: 1;position: relative;background-color: white;}#sk-container-id-1 div.sk-parallel-item:first-child::after {align-self: flex-end;width: 50%;}#sk-container-id-1 div.sk-parallel-item:last-child::after {align-self: flex-start;width: 50%;}#sk-container-id-1 div.sk-parallel-item:only-child::after {width: 0;}#sk-container-id-1 div.sk-dashed-wrapped {border: 1px dashed gray;margin: 0 0.4em 0.5em 0.4em;box-sizing: border-box;padding-bottom: 0.4em;background-color: white;}#sk-container-id-1 div.sk-label label {font-family: monospace;font-weight: bold;display: inline-block;line-height: 1.2em;}#sk-container-id-1 div.sk-label-container {text-align: center;}#sk-container-id-1 div.sk-container {/* jupyter's `normalize.less` sets `[hidden] { display: none; }` but bootstrap.min.css set `[hidden] { display: none !important; }` so we also need the `!important` here to be able to override the default hidden behavior on the sphinx rendered scikit-learn.org. See: https://github.com/scikit-learn/scikit-learn/issues/21755 */display: inline-block !important;position: relative;}#sk-container-id-1 div.sk-text-repr-fallback {display: none;}</style><div id=\"sk-container-id-1\" class=\"sk-top-container\"><div class=\"sk-text-repr-fallback\"><pre>LinearRegression()</pre><b>In a Jupyter environment, please rerun this cell to show the HTML representation or trust the notebook. <br />On GitHub, the HTML representation is unable to render, please try loading this page with nbviewer.org.</b></div><div class=\"sk-container\" hidden><div class=\"sk-item\"><div class=\"sk-estimator sk-toggleable\"><input class=\"sk-toggleable__control sk-hidden--visually\" id=\"sk-estimator-id-1\" type=\"checkbox\" checked><label for=\"sk-estimator-id-1\" class=\"sk-toggleable__label sk-toggleable__label-arrow\">LinearRegression</label><div class=\"sk-toggleable__content\"><pre>LinearRegression()</pre></div></div></div></div></div>"
      ],
      "text/plain": [
       "LinearRegression()"
      ]
     },
     "execution_count": 66,
     "metadata": {},
     "output_type": "execute_result"
    }
   ],
   "source": [
    "model = LinearRegression()\n",
    "model.fit(X_train, y_train)"
   ]
  },
  {
   "cell_type": "code",
   "execution_count": 73,
   "id": "3cce98b6",
   "metadata": {},
   "outputs": [
    {
     "name": "stdout",
     "output_type": "stream",
     "text": [
      "학습용 세트 결정계수: 0.175\n",
      "테스트 세트 결정계수: 0.163\n"
     ]
    }
   ],
   "source": [
    "print(\"학습용 세트 결정계수: {:.3f}\".format(model.score(X_train, y_train)))\n",
    "print(\"테스트 세트 결정계수: {:.3f}\".format(model.score(X_test, y_test)))"
   ]
  },
  {
   "cell_type": "markdown",
   "id": "944f0f8c",
   "metadata": {},
   "source": [
    "- 위의 경우 정규와 전 / 후로 개선된 것은 없다..."
   ]
  }
 ],
 "metadata": {
  "kernelspec": {
   "display_name": "Python 3 (ipykernel)",
   "language": "python",
   "name": "python3"
  },
  "language_info": {
   "codemirror_mode": {
    "name": "ipython",
    "version": 3
   },
   "file_extension": ".py",
   "mimetype": "text/x-python",
   "name": "python",
   "nbconvert_exporter": "python",
   "pygments_lexer": "ipython3",
   "version": "3.8.11"
  }
 },
 "nbformat": 4,
 "nbformat_minor": 5
}
