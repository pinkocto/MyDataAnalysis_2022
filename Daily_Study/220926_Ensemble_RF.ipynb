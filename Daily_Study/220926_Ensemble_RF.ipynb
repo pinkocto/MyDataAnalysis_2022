{
 "cells": [
  {
   "cell_type": "markdown",
   "id": "9e5c43d5",
   "metadata": {},
   "source": [
    "### CH2. 앙상블 기법에 대해 알아보기"
   ]
  },
  {
   "cell_type": "markdown",
   "id": "9e1fa2e8",
   "metadata": {},
   "source": [
    "#### 대표적인 알고리즘 RandomForest"
   ]
  },
  {
   "cell_type": "markdown",
   "id": "8e73004b",
   "metadata": {},
   "source": [
    "- 앙상블이 무엇인지?\n",
    "- 랜덤 포레스트 알고리즘을 이용해 본다.\n",
    "- 기타 모델로 다시 만들어 여러 모델을 비교해 본다."
   ]
  },
  {
   "cell_type": "markdown",
   "id": "04dc8a6c",
   "metadata": {},
   "source": [
    "### 01. 앙상블(ensemble)이란 무엇일까?\n",
    "- 여러 머신러닝 **모델을 연결**하여 더 강력한 모델을 만드는 기법이다."
   ]
  },
  {
   "cell_type": "markdown",
   "id": "060b0c5e",
   "metadata": {},
   "source": [
    "### 02. 랜덤 포레스트(RandomForest)는 무엇인가?\n",
    "- 원리\n",
    "    - 01. 트리를 많이 만든다.\n",
    "    - 02. 각각의 모델이 예측한다.\n",
    "    - 03. 예측한 값들의 평균값을 구한다. 이를 최종 예측값으로 이용"
   ]
  },
  {
   "cell_type": "code",
   "execution_count": 31,
   "id": "6a46a7a1",
   "metadata": {},
   "outputs": [
    {
     "name": "stdout",
     "output_type": "stream",
     "text": [
      "<class 'pandas.core.frame.DataFrame'>\n",
      "RangeIndex: 244 entries, 0 to 243\n",
      "Data columns (total 7 columns):\n",
      " #   Column      Non-Null Count  Dtype   \n",
      "---  ------      --------------  -----   \n",
      " 0   total_bill  244 non-null    float64 \n",
      " 1   tip         244 non-null    float64 \n",
      " 2   sex         244 non-null    category\n",
      " 3   smoker      244 non-null    category\n",
      " 4   day         244 non-null    category\n",
      " 5   time        244 non-null    category\n",
      " 6   size        244 non-null    int64   \n",
      "dtypes: category(4), float64(2), int64(1)\n",
      "memory usage: 7.4 KB\n",
      "None\n"
     ]
    }
   ],
   "source": [
    "import seaborn as sns\n",
    "\n",
    "tips = sns.load_dataset('tips')\n",
    "print(tips.info())"
   ]
  },
  {
   "cell_type": "markdown",
   "id": "36254ebe",
   "metadata": {},
   "source": [
    "### 라벨 인코딩 및 자료형 변환"
   ]
  },
  {
   "cell_type": "code",
   "execution_count": 32,
   "id": "b1900aa0",
   "metadata": {},
   "outputs": [
    {
     "name": "stdout",
     "output_type": "stream",
     "text": [
      "['Female', 'Male']\n",
      "Categories (2, object): ['Male', 'Female']\n",
      "['Dinner', 'Lunch']\n",
      "Categories (2, object): ['Lunch', 'Dinner']\n",
      "['No', 'Yes']\n",
      "Categories (2, object): ['Yes', 'No']\n"
     ]
    }
   ],
   "source": [
    "# sex 라벨인코딩\n",
    "print( tips['sex'].unique())\n",
    "sex_dict = {'Female':0, 'Male':1}\n",
    "tips['sex'] = tips['sex'].map(sex_dict).astype('int')\n",
    "\n",
    "# day 라벨인코딩\n",
    "day_dict = {'Thur':0, 'Fri':1, 'Sat':2,'Sun':3}\n",
    "tips['day'] = tips['day'].map(day_dict).astype('int')\n",
    "\n",
    "# time 라벨 인코딩\n",
    "print( tips['time'].unique() )\n",
    "time_dict = {\"Lunch\":0, \"Dinner\":1 }\n",
    "tips['time'] = tips['time'].map(time_dict).astype('int')\n",
    "\n",
    "# smoker\n",
    "print( tips['smoker'].unique())\n",
    "smoker_dict = {\"No\":0,'Yes':1}\n",
    "tips['smoker'] = tips['smoker'].map(smoker_dict).astype('int')"
   ]
  },
  {
   "cell_type": "code",
   "execution_count": 33,
   "id": "768eb57e",
   "metadata": {
    "scrolled": true
   },
   "outputs": [
    {
     "name": "stdout",
     "output_type": "stream",
     "text": [
      "<class 'pandas.core.frame.DataFrame'>\n",
      "RangeIndex: 244 entries, 0 to 243\n",
      "Data columns (total 7 columns):\n",
      " #   Column      Non-Null Count  Dtype  \n",
      "---  ------      --------------  -----  \n",
      " 0   total_bill  244 non-null    float64\n",
      " 1   tip         244 non-null    float64\n",
      " 2   sex         244 non-null    int32  \n",
      " 3   smoker      244 non-null    int32  \n",
      " 4   day         244 non-null    int32  \n",
      " 5   time        244 non-null    int32  \n",
      " 6   size        244 non-null    int64  \n",
      "dtypes: float64(2), int32(4), int64(1)\n",
      "memory usage: 9.7 KB\n"
     ]
    }
   ],
   "source": [
    "tips.info()"
   ]
  },
  {
   "cell_type": "code",
   "execution_count": 34,
   "id": "8748b388",
   "metadata": {
    "scrolled": true
   },
   "outputs": [
    {
     "data": {
      "text/html": [
       "<div>\n",
       "<style scoped>\n",
       "    .dataframe tbody tr th:only-of-type {\n",
       "        vertical-align: middle;\n",
       "    }\n",
       "\n",
       "    .dataframe tbody tr th {\n",
       "        vertical-align: top;\n",
       "    }\n",
       "\n",
       "    .dataframe thead th {\n",
       "        text-align: right;\n",
       "    }\n",
       "</style>\n",
       "<table border=\"1\" class=\"dataframe\">\n",
       "  <thead>\n",
       "    <tr style=\"text-align: right;\">\n",
       "      <th></th>\n",
       "      <th>total_bill</th>\n",
       "      <th>tip</th>\n",
       "      <th>sex</th>\n",
       "      <th>smoker</th>\n",
       "      <th>day</th>\n",
       "      <th>time</th>\n",
       "      <th>size</th>\n",
       "    </tr>\n",
       "  </thead>\n",
       "  <tbody>\n",
       "    <tr>\n",
       "      <th>0</th>\n",
       "      <td>16.99</td>\n",
       "      <td>1.01</td>\n",
       "      <td>0</td>\n",
       "      <td>0</td>\n",
       "      <td>3</td>\n",
       "      <td>1</td>\n",
       "      <td>2</td>\n",
       "    </tr>\n",
       "    <tr>\n",
       "      <th>1</th>\n",
       "      <td>10.34</td>\n",
       "      <td>1.66</td>\n",
       "      <td>1</td>\n",
       "      <td>0</td>\n",
       "      <td>3</td>\n",
       "      <td>1</td>\n",
       "      <td>3</td>\n",
       "    </tr>\n",
       "    <tr>\n",
       "      <th>2</th>\n",
       "      <td>21.01</td>\n",
       "      <td>3.50</td>\n",
       "      <td>1</td>\n",
       "      <td>0</td>\n",
       "      <td>3</td>\n",
       "      <td>1</td>\n",
       "      <td>3</td>\n",
       "    </tr>\n",
       "    <tr>\n",
       "      <th>3</th>\n",
       "      <td>23.68</td>\n",
       "      <td>3.31</td>\n",
       "      <td>1</td>\n",
       "      <td>0</td>\n",
       "      <td>3</td>\n",
       "      <td>1</td>\n",
       "      <td>2</td>\n",
       "    </tr>\n",
       "    <tr>\n",
       "      <th>4</th>\n",
       "      <td>24.59</td>\n",
       "      <td>3.61</td>\n",
       "      <td>0</td>\n",
       "      <td>0</td>\n",
       "      <td>3</td>\n",
       "      <td>1</td>\n",
       "      <td>4</td>\n",
       "    </tr>\n",
       "  </tbody>\n",
       "</table>\n",
       "</div>"
      ],
      "text/plain": [
       "   total_bill   tip  sex  smoker  day  time  size\n",
       "0       16.99  1.01    0       0    3     1     2\n",
       "1       10.34  1.66    1       0    3     1     3\n",
       "2       21.01  3.50    1       0    3     1     3\n",
       "3       23.68  3.31    1       0    3     1     2\n",
       "4       24.59  3.61    0       0    3     1     4"
      ]
     },
     "execution_count": 34,
     "metadata": {},
     "output_type": "execute_result"
    }
   ],
   "source": [
    "tips.head()"
   ]
  },
  {
   "cell_type": "markdown",
   "id": "d67da7a3",
   "metadata": {},
   "source": [
    "### 현재고객과 미래고객으로 데이터셋 나누기"
   ]
  },
  {
   "cell_type": "code",
   "execution_count": 35,
   "id": "69b2a74b",
   "metadata": {},
   "outputs": [],
   "source": [
    "tips_have = tips.iloc[0:220, :] # 현재 가진 고객 데이터\n",
    "tips_new = tips.iloc[220:,:] # 미래의 고객 데이터"
   ]
  },
  {
   "cell_type": "code",
   "execution_count": 36,
   "id": "ffdc4892",
   "metadata": {},
   "outputs": [
    {
     "name": "stderr",
     "output_type": "stream",
     "text": [
      "C:\\Users\\82103\\anaconda3\\envs\\py38r40\\lib\\site-packages\\pandas\\core\\frame.py:4901: SettingWithCopyWarning: \n",
      "A value is trying to be set on a copy of a slice from a DataFrame\n",
      "\n",
      "See the caveats in the documentation: https://pandas.pydata.org/pandas-docs/stable/user_guide/indexing.html#returning-a-view-versus-a-copy\n",
      "  return super().drop(\n"
     ]
    },
    {
     "data": {
      "text/plain": [
       "((220, 7), (24, 6))"
      ]
     },
     "execution_count": 36,
     "metadata": {},
     "output_type": "execute_result"
    }
   ],
   "source": [
    "tips_new.drop(['size'], axis=1, inplace=True)\n",
    "\n",
    "tips_have.shape, tips_new.shape"
   ]
  },
  {
   "cell_type": "code",
   "execution_count": 37,
   "id": "57935235",
   "metadata": {},
   "outputs": [
    {
     "data": {
      "text/plain": [
       "Index(['total_bill', 'tip', 'sex', 'smoker', 'day', 'time', 'size'], dtype='object')"
      ]
     },
     "execution_count": 37,
     "metadata": {},
     "output_type": "execute_result"
    }
   ],
   "source": [
    "tips_have.columns"
   ]
  },
  {
   "cell_type": "code",
   "execution_count": 67,
   "id": "9d65596d",
   "metadata": {},
   "outputs": [],
   "source": [
    "sel = ['total_bill','tip']\n",
    "\n",
    "X = tips_have[sel]\n",
    "y = tips_have['size']\n",
    "\n",
    "test_X = tips_new[sel]"
   ]
  },
  {
   "cell_type": "code",
   "execution_count": 68,
   "id": "2905f96d",
   "metadata": {},
   "outputs": [],
   "source": [
    "from sklearn.ensemble import RandomForestClassifier"
   ]
  },
  {
   "cell_type": "code",
   "execution_count": 69,
   "id": "51695888",
   "metadata": {},
   "outputs": [
    {
     "data": {
      "text/plain": [
       "array([2, 2, 2, 2, 2, 2, 2, 2, 2, 2, 4, 2, 2, 2, 2, 2, 1, 2, 4, 4, 4, 4,\n",
       "       2, 4], dtype=int64)"
      ]
     },
     "execution_count": 69,
     "metadata": {},
     "output_type": "execute_result"
    }
   ],
   "source": [
    "model = RandomForestClassifier() \n",
    "model.fit(X, y) \n",
    "pred = model.predict(test_X)\n",
    "pred"
   ]
  },
  {
   "cell_type": "markdown",
   "id": "fffeaeb3",
   "metadata": {},
   "source": [
    "### 자체평가를 위한 모델"
   ]
  },
  {
   "cell_type": "code",
   "execution_count": 70,
   "id": "fa71bb5e",
   "metadata": {},
   "outputs": [],
   "source": [
    "from sklearn.model_selection import train_test_split"
   ]
  },
  {
   "cell_type": "code",
   "execution_count": 71,
   "id": "9a75901e",
   "metadata": {},
   "outputs": [
    {
     "data": {
      "text/plain": [
       "((165, 2), (55, 2), (165,), (55,))"
      ]
     },
     "execution_count": 71,
     "metadata": {},
     "output_type": "execute_result"
    }
   ],
   "source": [
    "# 220개 중에 데이터를 나눠서 자체평가용 데이터 셋을 만든다.\n",
    "X_train, X_test, Y_train, Y_test = train_test_split(X, y,\n",
    "                                                   random_state=0)\n",
    "\n",
    "X_train.shape, X_test.shape, Y_train.shape, Y_test.shape"
   ]
  },
  {
   "cell_type": "code",
   "execution_count": 72,
   "id": "10de27bc",
   "metadata": {},
   "outputs": [
    {
     "name": "stdout",
     "output_type": "stream",
     "text": [
      "자체 평가 예측 정확도: 0.5818181818181818% \n"
     ]
    }
   ],
   "source": [
    "### 기본 모델\n",
    "import numpy as np\n",
    "\n",
    "model = RandomForestClassifier()\n",
    "model.fit(X_train, Y_train)\n",
    "pred = model.predict(X_test)\n",
    "\n",
    "print( \"자체 평가 예측 정확도: {}% \".format(np.mean((pred==Y_test))))"
   ]
  },
  {
   "cell_type": "code",
   "execution_count": 76,
   "id": "8913063b",
   "metadata": {},
   "outputs": [
    {
     "name": "stdout",
     "output_type": "stream",
     "text": [
      "트리의 개수: 10\n",
      "자체평가 학습용 정확도 (score):  0.9757575757575757\n",
      "자체평가 예측 정확도 (score): 0.5636363636363636\n",
      "자체평가 예측 정확도: 56.36363636363636% \n",
      "********************************************************************************\n",
      "트리의 개수: 100\n",
      "자체평가 학습용 정확도 (score):  1.0\n",
      "자체평가 예측 정확도 (score): 0.5818181818181818\n",
      "자체평가 예측 정확도: 58.18181818181818% \n",
      "********************************************************************************\n",
      "트리의 개수: 500\n",
      "자체평가 학습용 정확도 (score):  1.0\n",
      "자체평가 예측 정확도 (score): 0.5636363636363636\n",
      "자체평가 예측 정확도: 56.36363636363636% \n",
      "********************************************************************************\n"
     ]
    }
   ],
   "source": [
    "n_est_num = [10, 100, 500]\n",
    "\n",
    "for nums in n_est_num:\n",
    "    model = RandomForestClassifier(n_estimators=nums, n_jobs=-1)\n",
    "    model.fit(X_train, Y_train)\n",
    "    pred = model.predict(X_test)\n",
    "    \n",
    "    print('트리의 개수:', nums)\n",
    "    print('자체평가 학습용 정확도 (score): ', model.score(X_train, Y_train))\n",
    "    print('자체평가 예측 정확도 (score):', model.score(X_test, Y_test))\n",
    "    print( \"자체평가 예측 정확도: {}% \".format(np.mean((pred==Y_test))*100))\n",
    "    print('*'*80)"
   ]
  },
  {
   "cell_type": "markdown",
   "id": "a3e11af4",
   "metadata": {},
   "source": [
    "### `sex` 변수 추가"
   ]
  },
  {
   "cell_type": "code",
   "execution_count": 63,
   "id": "55e40e9b",
   "metadata": {},
   "outputs": [],
   "source": [
    "sel = ['total_bill','tip','sex']\n",
    "\n",
    "X = tips_have[sel]\n",
    "y = tips_have['size']\n",
    "\n",
    "test_X = tips_new[sel]"
   ]
  },
  {
   "cell_type": "code",
   "execution_count": 64,
   "id": "b36d487f",
   "metadata": {},
   "outputs": [
    {
     "data": {
      "text/plain": [
       "((165, 3), (55, 3), (165,), (55,))"
      ]
     },
     "execution_count": 64,
     "metadata": {},
     "output_type": "execute_result"
    }
   ],
   "source": [
    "# 220개 중에 데이터를 나눠서 자체평가용 데이터 셋을 만든다.\n",
    "X_train, X_test, Y_train, Y_test = train_test_split(X, y,\n",
    "                                                   random_state=0)\n",
    "\n",
    "X_train.shape, X_test.shape, Y_train.shape, Y_test.shape"
   ]
  },
  {
   "cell_type": "code",
   "execution_count": 66,
   "id": "9d865837",
   "metadata": {},
   "outputs": [
    {
     "name": "stdout",
     "output_type": "stream",
     "text": [
      "트리의 개수: 10\n",
      "자체평가 학습용 정확도 (score):  0.9515151515151515\n",
      "자체평가 예측 정확도 (score): 0.4727272727272727\n",
      "자체평가 예측 정확도: 47.27272727272727% \n",
      " \n",
      "트리의 개수: 100\n",
      "자체평가 학습용 정확도 (score):  1.0\n",
      "자체평가 예측 정확도 (score): 0.5272727272727272\n",
      "자체평가 예측 정확도: 52.72727272727272% \n",
      " \n",
      "트리의 개수: 500\n",
      "자체평가 학습용 정확도 (score):  1.0\n",
      "자체평가 예측 정확도 (score): 0.509090909090909\n",
      "자체평가 예측 정확도: 50.90909090909091% \n",
      " \n"
     ]
    }
   ],
   "source": [
    "n_est_num = [10, 100, 500]\n",
    "\n",
    "for nums in n_est_num:\n",
    "    model = RandomForestClassifier(n_estimators=nums, n_jobs=-1)\n",
    "    model.fit(X_train, Y_train)\n",
    "    pred = model.predict(X_test)\n",
    "    \n",
    "    print('트리의 개수:', nums)\n",
    "    print('자체평가 학습용 정확도 (score): ', model.score(X_train, Y_train))\n",
    "    print('자체평가 예측 정확도 (score):', model.score(X_test, Y_test))\n",
    "    print( \"자체평가 예측 정확도: {}% \".format(np.mean((pred==Y_test))*100))\n",
    "    print(\" \")"
   ]
  },
  {
   "cell_type": "markdown",
   "id": "91ddc427",
   "metadata": {},
   "source": [
    "### `day` 변수 추가"
   ]
  },
  {
   "cell_type": "code",
   "execution_count": 56,
   "id": "ef2bb8ae",
   "metadata": {},
   "outputs": [],
   "source": [
    "sel = ['total_bill','tip','sex','day']\n",
    "\n",
    "X = tips_have[sel]\n",
    "y = tips_have['size']\n",
    "\n",
    "test_X = tips_new[sel]"
   ]
  },
  {
   "cell_type": "code",
   "execution_count": 57,
   "id": "e779a05e",
   "metadata": {},
   "outputs": [
    {
     "data": {
      "text/plain": [
       "((165, 4), (55, 4), (165,), (55,))"
      ]
     },
     "execution_count": 57,
     "metadata": {},
     "output_type": "execute_result"
    }
   ],
   "source": [
    "# 220개 중에 데이터를 나눠서 자체평가용 데이터 셋을 만든다.\n",
    "X_train, X_test, Y_train, Y_test = train_test_split(X, y,\n",
    "                                                   random_state=0)\n",
    "\n",
    "X_train.shape, X_test.shape, Y_train.shape, Y_test.shape"
   ]
  },
  {
   "cell_type": "code",
   "execution_count": 58,
   "id": "78490bec",
   "metadata": {},
   "outputs": [
    {
     "name": "stdout",
     "output_type": "stream",
     "text": [
      "트리의 개수: 10\n",
      "자체평가 학습용 정확도 (score):  0.9636363636363636\n",
      "자체평가 예측 정확도 (score): 0.5818181818181818\n",
      "자체평가 예측 정확도: 0.5818181818181818% \n",
      "****************************************************************************************************\n",
      "트리의 개수: 100\n",
      "자체평가 학습용 정확도 (score):  1.0\n",
      "자체평가 예측 정확도 (score): 0.5454545454545454\n",
      "자체평가 예측 정확도: 0.5454545454545454% \n",
      "****************************************************************************************************\n",
      "트리의 개수: 500\n",
      "자체평가 학습용 정확도 (score):  1.0\n",
      "자체평가 예측 정확도 (score): 0.5454545454545454\n",
      "자체평가 예측 정확도: 0.5454545454545454% \n",
      "****************************************************************************************************\n"
     ]
    }
   ],
   "source": [
    "n_est_num = [10, 100, 500]\n",
    "\n",
    "for nums in n_est_num:\n",
    "    model = RandomForestClassifier(n_estimators=nums, n_jobs=-1)\n",
    "    model.fit(X_train, Y_train)\n",
    "    pred = model.predict(X_test)\n",
    "    \n",
    "    print('트리의 개수:', nums)\n",
    "    print('자체평가 학습용 정확도 (score): ', model.score(X_train, Y_train))\n",
    "    print('자체평가 예측 정확도 (score):', model.score(X_test, Y_test))\n",
    "    print( \"자체평가 예측 정확도: {}% \".format(np.mean((pred==Y_test))))\n",
    "    print('*'*100)"
   ]
  },
  {
   "cell_type": "markdown",
   "id": "6ad55500",
   "metadata": {},
   "source": [
    "### 전체 변수 추가"
   ]
  },
  {
   "cell_type": "code",
   "execution_count": 77,
   "id": "077d013f",
   "metadata": {},
   "outputs": [],
   "source": [
    "sel = ['total_bill','tip','sex','day','time','smoker']\n",
    "\n",
    "X = tips_have[sel]\n",
    "y = tips_have['size']\n",
    "\n",
    "test_X = tips_new[sel]"
   ]
  },
  {
   "cell_type": "code",
   "execution_count": 78,
   "id": "a055e3e4",
   "metadata": {},
   "outputs": [],
   "source": [
    "from sklearn.ensemble import RandomForestClassifier\n",
    "from sklearn.model_selection import train_test_split"
   ]
  },
  {
   "cell_type": "code",
   "execution_count": 79,
   "id": "4d5a7388",
   "metadata": {},
   "outputs": [
    {
     "data": {
      "text/plain": [
       "((165, 6), (55, 6), (165,), (55,))"
      ]
     },
     "execution_count": 79,
     "metadata": {},
     "output_type": "execute_result"
    }
   ],
   "source": [
    "# 220개 중에 데이터를 나눠서 자체평가용 데이터 셋을 만든다.\n",
    "X_train, X_test, Y_train, Y_test = train_test_split(X, y,\n",
    "                                                   random_state=0)\n",
    "\n",
    "X_train.shape, X_test.shape, Y_train.shape, Y_test.shape"
   ]
  },
  {
   "cell_type": "code",
   "execution_count": 80,
   "id": "42d27175",
   "metadata": {},
   "outputs": [
    {
     "name": "stdout",
     "output_type": "stream",
     "text": [
      "트리의 개수: 10\n",
      "자체평가 학습용 정확도 (score):  0.9636363636363636\n",
      "자체평가 예측 정확도 (score): 0.6181818181818182\n",
      "자체평가 예측 정확도: 61.81818181818181% \n",
      "****************************************************************************************************\n",
      "트리의 개수: 100\n",
      "자체평가 학습용 정확도 (score):  1.0\n",
      "자체평가 예측 정확도 (score): 0.6\n",
      "자체평가 예측 정확도: 60.0% \n",
      "****************************************************************************************************\n",
      "트리의 개수: 500\n",
      "자체평가 학습용 정확도 (score):  1.0\n",
      "자체평가 예측 정확도 (score): 0.5636363636363636\n",
      "자체평가 예측 정확도: 56.36363636363636% \n",
      "****************************************************************************************************\n"
     ]
    }
   ],
   "source": [
    "n_est_num = [10, 100, 500]\n",
    "\n",
    "for nums in n_est_num:\n",
    "    model = RandomForestClassifier(n_estimators=nums, n_jobs=-1)\n",
    "    model.fit(X_train, Y_train)\n",
    "    pred = model.predict(X_test)\n",
    "    \n",
    "    print('트리의 개수:', nums)\n",
    "    print('자체평가 학습용 정확도 (score): ', model.score(X_train, Y_train))\n",
    "    print('자체평가 예측 정확도 (score):', model.score(X_test, Y_test))\n",
    "    print( \"자체평가 예측 정확도: {}% \".format(np.mean((pred==Y_test))*100))\n",
    "    print('*'*100)"
   ]
  }
 ],
 "metadata": {
  "kernelspec": {
   "display_name": "Python 3 (ipykernel)",
   "language": "python",
   "name": "python3"
  },
  "language_info": {
   "codemirror_mode": {
    "name": "ipython",
    "version": 3
   },
   "file_extension": ".py",
   "mimetype": "text/x-python",
   "name": "python",
   "nbconvert_exporter": "python",
   "pygments_lexer": "ipython3",
   "version": "3.8.11"
  }
 },
 "nbformat": 4,
 "nbformat_minor": 5
}
