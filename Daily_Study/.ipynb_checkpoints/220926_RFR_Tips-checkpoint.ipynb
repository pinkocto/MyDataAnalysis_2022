{
 "cells": [
  {
   "cell_type": "markdown",
   "id": "cf3ddc70",
   "metadata": {},
   "source": [
    "# RandomForest Regressor\n",
    "> tips 예측 모델 만들기"
   ]
  },
  {
   "cell_type": "code",
   "execution_count": 9,
   "id": "a20106f6",
   "metadata": {},
   "outputs": [
    {
     "name": "stdout",
     "output_type": "stream",
     "text": [
      "<class 'pandas.core.frame.DataFrame'>\n",
      "RangeIndex: 244 entries, 0 to 243\n",
      "Data columns (total 7 columns):\n",
      " #   Column      Non-Null Count  Dtype   \n",
      "---  ------      --------------  -----   \n",
      " 0   total_bill  244 non-null    float64 \n",
      " 1   tip         244 non-null    float64 \n",
      " 2   sex         244 non-null    category\n",
      " 3   smoker      244 non-null    category\n",
      " 4   day         244 non-null    category\n",
      " 5   time        244 non-null    category\n",
      " 6   size        244 non-null    int64   \n",
      "dtypes: category(4), float64(2), int64(1)\n",
      "memory usage: 7.4 KB\n",
      "None\n"
     ]
    }
   ],
   "source": [
    "import seaborn as sns\n",
    "\n",
    "tips = sns.load_dataset('tips')\n",
    "print(tips.info())"
   ]
  },
  {
   "cell_type": "markdown",
   "id": "fe649959",
   "metadata": {},
   "source": [
    "### 라벨인코딩"
   ]
  },
  {
   "cell_type": "code",
   "execution_count": 10,
   "id": "b8fc836b",
   "metadata": {},
   "outputs": [
    {
     "name": "stdout",
     "output_type": "stream",
     "text": [
      "['Female', 'Male']\n",
      "Categories (2, object): ['Male', 'Female']\n",
      "['Dinner', 'Lunch']\n",
      "Categories (2, object): ['Lunch', 'Dinner']\n",
      "['No', 'Yes']\n",
      "Categories (2, object): ['Yes', 'No']\n"
     ]
    }
   ],
   "source": [
    "# sex 라벨인코딩\n",
    "print( tips['sex'].unique())\n",
    "sex_dict = {'Female':0, 'Male':1}\n",
    "tips['sex'] = tips['sex'].map(sex_dict).astype('int')\n",
    "\n",
    "# day 라벨인코딩\n",
    "day_dict = {'Thur':0, 'Fri':1, 'Sat':2,'Sun':3}\n",
    "tips['day'] = tips['day'].map(day_dict).astype('int')\n",
    "\n",
    "# time 라벨 인코딩\n",
    "print( tips['time'].unique() )\n",
    "time_dict = {\"Lunch\":0, \"Dinner\":1 }\n",
    "tips['time'] = tips['time'].map(time_dict).astype('int')\n",
    "\n",
    "# smoker\n",
    "print( tips['smoker'].unique())\n",
    "smoker_dict = {\"No\":0,'Yes':1}\n",
    "tips['smoker'] = tips['smoker'].map(smoker_dict).astype('int')"
   ]
  },
  {
   "cell_type": "markdown",
   "id": "e11a264a",
   "metadata": {},
   "source": [
    "### 현재고객과 미래고객 나누기"
   ]
  },
  {
   "cell_type": "code",
   "execution_count": 17,
   "id": "cec2fc46",
   "metadata": {},
   "outputs": [],
   "source": [
    "tips_have = tips.iloc[0:220, :] # 현재 가진 고객 데이터\n",
    "tips_new = tips.iloc[220:,:] # 미래의 고객 데이터"
   ]
  },
  {
   "cell_type": "code",
   "execution_count": 18,
   "id": "756331fb",
   "metadata": {},
   "outputs": [
    {
     "name": "stderr",
     "output_type": "stream",
     "text": [
      "C:\\Users\\82103\\anaconda3\\envs\\py38r40\\lib\\site-packages\\pandas\\core\\frame.py:4901: SettingWithCopyWarning: \n",
      "A value is trying to be set on a copy of a slice from a DataFrame\n",
      "\n",
      "See the caveats in the documentation: https://pandas.pydata.org/pandas-docs/stable/user_guide/indexing.html#returning-a-view-versus-a-copy\n",
      "  return super().drop(\n"
     ]
    },
    {
     "data": {
      "text/plain": [
       "((220, 7), (24, 6))"
      ]
     },
     "execution_count": 18,
     "metadata": {},
     "output_type": "execute_result"
    }
   ],
   "source": [
    "tips_new.drop(['tip'], axis=1, inplace=True)\n",
    "\n",
    "tips_have.shape, tips_new.shape"
   ]
  },
  {
   "cell_type": "code",
   "execution_count": 41,
   "id": "a26e1816",
   "metadata": {},
   "outputs": [],
   "source": [
    "sel = ['total_bill','size','sex','day','time','smoker']\n",
    "\n",
    "X = tips_have[sel]\n",
    "y = tips_have['tip'] # target\n",
    "\n",
    "test_X = tips_new[sel]"
   ]
  },
  {
   "cell_type": "code",
   "execution_count": 23,
   "id": "973600ee",
   "metadata": {},
   "outputs": [],
   "source": [
    "#from sklearn.ensemble import RandomForestClassifier\n",
    "from sklearn.ensemble import RandomForestRegressor"
   ]
  },
  {
   "cell_type": "code",
   "execution_count": 38,
   "id": "193957a6",
   "metadata": {},
   "outputs": [
    {
     "data": {
      "text/plain": [
       "array([1.8209, 2.0544, 1.6133, 2.2362, 1.974 , 3.2405, 1.8461, 2.9864,\n",
       "       2.1643, 3.9279, 4.0765, 2.2501, 1.8059, 1.5935, 2.1328, 1.5518,\n",
       "       2.0535, 3.1968, 4.4323, 3.1592, 3.4273, 3.691 , 3.2082, 2.4825])"
      ]
     },
     "execution_count": 38,
     "metadata": {},
     "output_type": "execute_result"
    }
   ],
   "source": [
    "model = RandomForestRegressor() \n",
    "model.fit(X, y) \n",
    "pred = model.predict(test_X)\n",
    "pred"
   ]
  },
  {
   "cell_type": "markdown",
   "id": "44a4bedd",
   "metadata": {},
   "source": [
    "-----"
   ]
  },
  {
   "cell_type": "markdown",
   "id": "da016035",
   "metadata": {},
   "source": [
    "### 자체평가를 위한 준비"
   ]
  },
  {
   "cell_type": "code",
   "execution_count": 25,
   "id": "12291e8f",
   "metadata": {},
   "outputs": [],
   "source": [
    "from sklearn.model_selection import train_test_split"
   ]
  },
  {
   "cell_type": "code",
   "execution_count": 26,
   "id": "dcaf662d",
   "metadata": {},
   "outputs": [
    {
     "data": {
      "text/plain": [
       "((165, 6), (55, 6), (165,), (55,))"
      ]
     },
     "execution_count": 26,
     "metadata": {},
     "output_type": "execute_result"
    }
   ],
   "source": [
    "# 220개 중에 데이터를 나눠서 자체평가용 데이터 셋을 만든다.\n",
    "X_train, X_test, Y_train, Y_test = train_test_split(X, y,\n",
    "                                                   random_state=0)\n",
    "\n",
    "X_train.shape, X_test.shape, Y_train.shape, Y_test.shape"
   ]
  },
  {
   "cell_type": "markdown",
   "id": "cbe0db87",
   "metadata": {},
   "source": [
    "### 랜덤포레스트 회귀모델"
   ]
  },
  {
   "cell_type": "code",
   "execution_count": 37,
   "id": "0e4cf0ea",
   "metadata": {},
   "outputs": [
    {
     "data": {
      "text/plain": [
       "array([2.7129, 2.9365, 2.0499, 2.248 , 3.1383, 3.9075, 3.1417, 3.6306,\n",
       "       3.7793, 1.5347, 1.5113, 4.2453, 3.2888, 1.9596, 1.9218, 3.0318,\n",
       "       1.9459, 3.4064, 3.2924, 1.7874, 2.6817, 2.349 , 4.0769, 2.9563,\n",
       "       2.0783, 2.975 , 2.3479, 2.3474, 2.8261, 1.9457, 3.3212, 3.9093,\n",
       "       1.8908, 3.9808, 1.7691, 2.8226, 1.7169, 2.6556, 2.0241, 4.1635,\n",
       "       2.8312, 3.3047, 3.5041, 2.383 , 1.8085, 3.3414, 3.11  , 3.5491,\n",
       "       2.305 , 1.5347, 2.9815, 2.9791, 2.7313, 4.2242, 3.2887])"
      ]
     },
     "execution_count": 37,
     "metadata": {},
     "output_type": "execute_result"
    }
   ],
   "source": [
    "import numpy as np\n",
    "\n",
    "model = RandomForestRegressor() # 예측모델\n",
    "model.fit(X_train, Y_train)\n",
    "pred = model.predict(X_test)\n",
    "pred"
   ]
  },
  {
   "cell_type": "code",
   "execution_count": 42,
   "id": "2dea3aca",
   "metadata": {},
   "outputs": [
    {
     "name": "stdout",
     "output_type": "stream",
     "text": [
      "트리의 개수: 10\n",
      "자체 평가 학습용 정확도:  0.9031338857139866\n",
      "자체 평가 예측 정확도: 0.42473890007347515\n",
      "--------------------------------------------------\n",
      "트리의 개수: 100\n",
      "자체 평가 학습용 정확도:  0.9298137831421864\n",
      "자체 평가 예측 정확도: 0.43718169402085716\n",
      "--------------------------------------------------\n",
      "트리의 개수: 500\n",
      "자체 평가 학습용 정확도:  0.926268423876405\n",
      "자체 평가 예측 정확도: 0.40525194756176564\n",
      "--------------------------------------------------\n"
     ]
    }
   ],
   "source": [
    "n_est_num = [10, 100, 500]\n",
    "\n",
    "for nums in n_est_num:\n",
    "    model = RandomForestRegressor(n_estimators=nums, n_jobs=-1)\n",
    "    model.fit(X_train, Y_train)\n",
    "    pred = model.predict(X_test)\n",
    "    \n",
    "    print('트리의 개수:', nums)\n",
    "    print('자체 평가 학습용 정확도: ', model.score(X_train, Y_train))\n",
    "    print('자체 평가 예측 정확도:', model.score(X_test, Y_test))\n",
    "    print('-'*50)"
   ]
  }
 ],
 "metadata": {
  "kernelspec": {
   "display_name": "Python 3 (ipykernel)",
   "language": "python",
   "name": "python3"
  },
  "language_info": {
   "codemirror_mode": {
    "name": "ipython",
    "version": 3
   },
   "file_extension": ".py",
   "mimetype": "text/x-python",
   "name": "python",
   "nbconvert_exporter": "python",
   "pygments_lexer": "ipython3",
   "version": "3.8.11"
  }
 },
 "nbformat": 4,
 "nbformat_minor": 5
}
