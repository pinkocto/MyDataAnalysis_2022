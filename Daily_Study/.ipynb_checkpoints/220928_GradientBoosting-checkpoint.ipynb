{
 "cells": [
  {
   "cell_type": "markdown",
   "id": "18c412da",
   "metadata": {},
   "source": [
    "## GradientBoosting\n",
    "\n",
    "> Gradient Boosting 실습 ( breast cancer data set )"
   ]
  },
  {
   "cell_type": "markdown",
   "id": "10189517",
   "metadata": {},
   "source": [
    "- `1.` 여러 개의 결정 트리를 묶어 강력한 모델을 만든다.\n",
    "\n",
    "- `2.` 분류(Classification)과 회귀(Regression)에 모두 사용 가능.\n",
    "\n",
    "- `3.` 랜덤포레스트(Random Forest)와 달리 **이전 트리의 오차를 보완하는 방식**으로 순차적으로 트리를 만든다.\n",
    "    - 이전트리의 오차를 얼마나 강하게 보정할 것인가를 제어 (learning_rate이다.)\n",
    "\n",
    "- `4.` 무작위성이 없으며, 대신 강력한 사전 가지치기(pruning)을 사용\n",
    "\n",
    "- `5.` 각각의 트리는 일부에 대해서만 예측을 잘 수행, **트리가 많을수록 성능이 좋아짐**\n",
    "\n",
    "- `6.` 랜덤 포레스트보다 **매개변수 설정에 더 민감**하다. (잘 조정하면 더 높은 정확도를 얻을 수 있다.)\n",
    "\n",
    "- `7.` 중요한 매개변수 중 하나는 learning_rate (학습률이 크면 보정을 강하게 한다.)\n",
    "\n",
    "- `8.` **n_estimators**의 값은 앙상블에 더 많은 트리가 추가되어, 모델의 복잡도는 커지지만 훈련세트에서의 실수를 보완한다.\n",
    "\n",
    "- `9.` 트리의 깊이가 5정도로서 깊지 않은 트리를 사용하여 **메모리 사용이 적고 예측도 빠르다.**"
   ]
  },
  {
   "cell_type": "code",
   "execution_count": 1,
   "id": "06f1d47b",
   "metadata": {},
   "outputs": [],
   "source": [
    "import matplotlib\n",
    "from matplotlib import font_manager, rc\n",
    "import matplotlib.pyplot as plt\n",
    "import platform"
   ]
  },
  {
   "cell_type": "code",
   "execution_count": 2,
   "id": "48a658ed",
   "metadata": {},
   "outputs": [],
   "source": [
    "path = \"C:/Windows/Fonts/malgun.ttf\"\n",
    "if platform.system() == \"Windows\":\n",
    "    font_name = font_manager.FontProperties(fname=path).get_name()\n",
    "    rc('font', family=font_name)\n",
    "elif platform.system()==\"Darwin\":\n",
    "    rc('font', family='AppleGothic')\n",
    "else:\n",
    "    print(\"Unknown System\")"
   ]
  },
  {
   "cell_type": "markdown",
   "id": "aec6a360",
   "metadata": {},
   "source": [
    "### 01. Gradient Boosting 알고리즘 실습"
   ]
  },
  {
   "cell_type": "markdown",
   "id": "01eed637",
   "metadata": {},
   "source": [
    "- $\\tt{depth} = 3$\n",
    "- $\\tt{n\\_estimators} = 100$ (트리는 100개)\n",
    "- $\\tt{learning\\_rate} = 0.1$ (학습률 0.1)\n",
    "\n",
    "- data set : load_breast_cancer\n",
    "    - classification용 유방암 진단 자료"
   ]
  },
  {
   "cell_type": "code",
   "execution_count": 6,
   "id": "1f246306",
   "metadata": {},
   "outputs": [],
   "source": [
    "from sklearn.model_selection import train_test_split\n",
    "from sklearn.datasets import load_breast_cancer\n",
    "import matplotlib.pyplot as plt\n",
    "import numpy as np\n",
    "%matplotlib inline"
   ]
  },
  {
   "cell_type": "code",
   "execution_count": 11,
   "id": "ea50ee7f",
   "metadata": {},
   "outputs": [
    {
     "name": "stdout",
     "output_type": "stream",
     "text": [
      "dict_keys(['data', 'target', 'frame', 'target_names', 'DESCR', 'feature_names', 'filename', 'data_module'])\n",
      "\n",
      "['malignant' 'benign']\n",
      "\n",
      "[0 0 0 0 0 0 0 0 0 0 0 0 0 0 0 0 0 0 0 1 1 1 0 0 0 0 0 0 0 0 0 0 0 0 0 0 0\n",
      " 1 0 0 0 0 0 0 0 0 1 0 1 1 1 1 1 0 0 1 0 0 1 1 1 1 0 1 0 0 1 1 1 1 0 1 0 0\n",
      " 1 0 1 0 0 1 1 1 0 0 1 0 0 0 1 1 1 0 1 1 0 0 1 1 1 0 0 1 1 1 1 0 1 1 0 1 1\n",
      " 1 1 1 1 1 1 0 0 0 1 0 0 1 1 1 0 0 1 0 1 0 0 1 0 0 1 1 0 1 1 0 1 1 1 1 0 1\n",
      " 1 1 1 1 1 1 1 1 0 1 1 1 1 0 0 1 0 1 1 0 0 1 1 0 0 1 1 1 1 0 1 1 0 0 0 1 0\n",
      " 1 0 1 1 1 0 1 1 0 0 1 0 0 0 0 1 0 0 0 1 0 1 0 1 1 0 1 0 0 0 0 1 1 0 0 1 1\n",
      " 1 0 1 1 1 1 1 0 0 1 1 0 1 1 0 0 1 0 1 1 1 1 0 1 1 1 1 1 0 1 0 0 0 0 0 0 0\n",
      " 0 0 0 0 0 0 0 1 1 1 1 1 1 0 1 0 1 1 0 1 1 0 1 0 0 1 1 1 1 1 1 1 1 1 1 1 1\n",
      " 1 0 1 1 0 1 0 1 1 1 1 1 1 1 1 1 1 1 1 1 1 0 1 1 1 0 1 0 1 1 1 1 0 0 0 1 1\n",
      " 1 1 0 1 0 1 0 1 1 1 0 1 1 1 1 1 1 1 0 0 0 1 1 1 1 1 1 1 1 1 1 1 0 0 1 0 0\n",
      " 0 1 0 0 1 1 1 1 1 0 1 1 1 1 1 0 1 1 1 0 1 1 0 0 1 1 1 1 1 1 0 1 1 1 1 1 1\n",
      " 1 0 1 1 1 1 1 0 1 1 0 1 1 1 1 1 1 1 1 1 1 1 1 0 1 0 0 1 0 1 1 1 1 1 0 1 1\n",
      " 0 1 0 1 1 0 1 0 1 1 1 1 1 1 1 1 0 0 1 1 1 1 1 1 0 1 1 1 1 1 1 1 1 1 1 0 1\n",
      " 1 1 1 1 1 1 0 1 0 1 1 0 1 1 1 1 1 0 0 1 0 1 0 1 1 1 1 1 0 1 1 0 1 0 1 0 0\n",
      " 1 1 1 0 1 1 1 1 1 1 1 1 1 1 1 0 1 0 0 1 1 1 1 1 1 1 1 1 1 1 1 1 1 1 1 1 1\n",
      " 1 1 1 1 1 1 1 0 0 0 0 0 0 1]\n",
      "\n",
      "['mean radius' 'mean texture' 'mean perimeter' 'mean area'\n",
      " 'mean smoothness' 'mean compactness' 'mean concavity'\n",
      " 'mean concave points' 'mean symmetry' 'mean fractal dimension'\n",
      " 'radius error' 'texture error' 'perimeter error' 'area error'\n",
      " 'smoothness error' 'compactness error' 'concavity error'\n",
      " 'concave points error' 'symmetry error' 'fractal dimension error'\n",
      " 'worst radius' 'worst texture' 'worst perimeter' 'worst area'\n",
      " 'worst smoothness' 'worst compactness' 'worst concavity'\n",
      " 'worst concave points' 'worst symmetry' 'worst fractal dimension']\n",
      "\n",
      "(569, 30)\n",
      "\n",
      "[[1.799e+01 1.038e+01 1.228e+02 ... 2.654e-01 4.601e-01 1.189e-01]\n",
      " [2.057e+01 1.777e+01 1.329e+02 ... 1.860e-01 2.750e-01 8.902e-02]\n",
      " [1.969e+01 2.125e+01 1.300e+02 ... 2.430e-01 3.613e-01 8.758e-02]\n",
      " ...\n",
      " [1.660e+01 2.808e+01 1.083e+02 ... 1.418e-01 2.218e-01 7.820e-02]\n",
      " [2.060e+01 2.933e+01 1.401e+02 ... 2.650e-01 4.087e-01 1.240e-01]\n",
      " [7.760e+00 2.454e+01 4.792e+01 ... 0.000e+00 2.871e-01 7.039e-02]]\n"
     ]
    }
   ],
   "source": [
    "from sklearn.ensemble import GradientBoostingClassifier\n",
    "\n",
    "cancer = load_breast_cancer()\n",
    "\n",
    "# 데이터 확인\n",
    "print(cancer.keys(), end='\\n\\n')\n",
    "print(cancer.target_names, end='\\n\\n')      # 목적변수(종속변수)      \n",
    "print(cancer.target, end='\\n\\n') \n",
    "print(cancer.feature_names, end='\\n\\n')\n",
    "print(cancer.data.shape, end='\\n\\n')        # 569행 , 30열\n",
    "print(cancer.data)              # 설명변수(독립변수)"
   ]
  },
  {
   "cell_type": "code",
   "execution_count": 13,
   "id": "628784c0",
   "metadata": {},
   "outputs": [
    {
     "data": {
      "text/html": [
       "<style>#sk-container-id-1 {color: black;background-color: white;}#sk-container-id-1 pre{padding: 0;}#sk-container-id-1 div.sk-toggleable {background-color: white;}#sk-container-id-1 label.sk-toggleable__label {cursor: pointer;display: block;width: 100%;margin-bottom: 0;padding: 0.3em;box-sizing: border-box;text-align: center;}#sk-container-id-1 label.sk-toggleable__label-arrow:before {content: \"▸\";float: left;margin-right: 0.25em;color: #696969;}#sk-container-id-1 label.sk-toggleable__label-arrow:hover:before {color: black;}#sk-container-id-1 div.sk-estimator:hover label.sk-toggleable__label-arrow:before {color: black;}#sk-container-id-1 div.sk-toggleable__content {max-height: 0;max-width: 0;overflow: hidden;text-align: left;background-color: #f0f8ff;}#sk-container-id-1 div.sk-toggleable__content pre {margin: 0.2em;color: black;border-radius: 0.25em;background-color: #f0f8ff;}#sk-container-id-1 input.sk-toggleable__control:checked~div.sk-toggleable__content {max-height: 200px;max-width: 100%;overflow: auto;}#sk-container-id-1 input.sk-toggleable__control:checked~label.sk-toggleable__label-arrow:before {content: \"▾\";}#sk-container-id-1 div.sk-estimator input.sk-toggleable__control:checked~label.sk-toggleable__label {background-color: #d4ebff;}#sk-container-id-1 div.sk-label input.sk-toggleable__control:checked~label.sk-toggleable__label {background-color: #d4ebff;}#sk-container-id-1 input.sk-hidden--visually {border: 0;clip: rect(1px 1px 1px 1px);clip: rect(1px, 1px, 1px, 1px);height: 1px;margin: -1px;overflow: hidden;padding: 0;position: absolute;width: 1px;}#sk-container-id-1 div.sk-estimator {font-family: monospace;background-color: #f0f8ff;border: 1px dotted black;border-radius: 0.25em;box-sizing: border-box;margin-bottom: 0.5em;}#sk-container-id-1 div.sk-estimator:hover {background-color: #d4ebff;}#sk-container-id-1 div.sk-parallel-item::after {content: \"\";width: 100%;border-bottom: 1px solid gray;flex-grow: 1;}#sk-container-id-1 div.sk-label:hover label.sk-toggleable__label {background-color: #d4ebff;}#sk-container-id-1 div.sk-serial::before {content: \"\";position: absolute;border-left: 1px solid gray;box-sizing: border-box;top: 0;bottom: 0;left: 50%;z-index: 0;}#sk-container-id-1 div.sk-serial {display: flex;flex-direction: column;align-items: center;background-color: white;padding-right: 0.2em;padding-left: 0.2em;position: relative;}#sk-container-id-1 div.sk-item {position: relative;z-index: 1;}#sk-container-id-1 div.sk-parallel {display: flex;align-items: stretch;justify-content: center;background-color: white;position: relative;}#sk-container-id-1 div.sk-item::before, #sk-container-id-1 div.sk-parallel-item::before {content: \"\";position: absolute;border-left: 1px solid gray;box-sizing: border-box;top: 0;bottom: 0;left: 50%;z-index: -1;}#sk-container-id-1 div.sk-parallel-item {display: flex;flex-direction: column;z-index: 1;position: relative;background-color: white;}#sk-container-id-1 div.sk-parallel-item:first-child::after {align-self: flex-end;width: 50%;}#sk-container-id-1 div.sk-parallel-item:last-child::after {align-self: flex-start;width: 50%;}#sk-container-id-1 div.sk-parallel-item:only-child::after {width: 0;}#sk-container-id-1 div.sk-dashed-wrapped {border: 1px dashed gray;margin: 0 0.4em 0.5em 0.4em;box-sizing: border-box;padding-bottom: 0.4em;background-color: white;}#sk-container-id-1 div.sk-label label {font-family: monospace;font-weight: bold;display: inline-block;line-height: 1.2em;}#sk-container-id-1 div.sk-label-container {text-align: center;}#sk-container-id-1 div.sk-container {/* jupyter's `normalize.less` sets `[hidden] { display: none; }` but bootstrap.min.css set `[hidden] { display: none !important; }` so we also need the `!important` here to be able to override the default hidden behavior on the sphinx rendered scikit-learn.org. See: https://github.com/scikit-learn/scikit-learn/issues/21755 */display: inline-block !important;position: relative;}#sk-container-id-1 div.sk-text-repr-fallback {display: none;}</style><div id=\"sk-container-id-1\" class=\"sk-top-container\"><div class=\"sk-text-repr-fallback\"><pre>GradientBoostingClassifier(random_state=0)</pre><b>In a Jupyter environment, please rerun this cell to show the HTML representation or trust the notebook. <br />On GitHub, the HTML representation is unable to render, please try loading this page with nbviewer.org.</b></div><div class=\"sk-container\" hidden><div class=\"sk-item\"><div class=\"sk-estimator sk-toggleable\"><input class=\"sk-toggleable__control sk-hidden--visually\" id=\"sk-estimator-id-1\" type=\"checkbox\" checked><label for=\"sk-estimator-id-1\" class=\"sk-toggleable__label sk-toggleable__label-arrow\">GradientBoostingClassifier</label><div class=\"sk-toggleable__content\"><pre>GradientBoostingClassifier(random_state=0)</pre></div></div></div></div></div>"
      ],
      "text/plain": [
       "GradientBoostingClassifier(random_state=0)"
      ]
     },
     "execution_count": 13,
     "metadata": {},
     "output_type": "execute_result"
    }
   ],
   "source": [
    "# 데이터 나누기\n",
    "X = cancer.data\n",
    "y = cancer.target\n",
    "X_train, X_test, y_train, y_test = train_test_split(X, y, random_state = 0)\n",
    "\n",
    "# 모델 생성 및 학습\n",
    "gbrt = GradientBoostingClassifier(random_state=0)\n",
    "gbrt.fit(X_train, y_train)"
   ]
  },
  {
   "cell_type": "code",
   "execution_count": 14,
   "id": "56266bfd",
   "metadata": {},
   "outputs": [
    {
     "name": "stdout",
     "output_type": "stream",
     "text": [
      "훈련 세트 정확도: 1.000\n",
      "테스트 세트 정확도: 0.965\n"
     ]
    }
   ],
   "source": [
    "# 정확도 확인\n",
    "print(\"훈련 세트 정확도: {:.3f}\".format(gbrt.score(X_train, y_train)))\n",
    "print(\"테스트 세트 정확도: {:.3f}\".format(gbrt.score(X_test, y_test)))"
   ]
  },
  {
   "cell_type": "markdown",
   "id": "86d4b77b",
   "metadata": {},
   "source": [
    "- 훈련 세트의 정확도가 $100\\%$ 이므로 과대적합 (Overfitting) 되었다.\n",
    "- 과대적합을 막기 위해서는 트리의 최대 깊이를 줄여 사전 가지치기를 강하게 하거나, 학습률을 낮출 수 있다."
   ]
  },
  {
   "cell_type": "markdown",
   "id": "6c0daba1",
   "metadata": {},
   "source": [
    "### 02. 훈련세트에 대한 과적합을 줄이기"
   ]
  },
  {
   "cell_type": "markdown",
   "id": "e6586043",
   "metadata": {},
   "source": [
    "- **`max_depth`** 조절 : 트리의 깊이\n",
    "- **`learning_rate`** 조절 : 학습 속도 조절"
   ]
  },
  {
   "cell_type": "markdown",
   "id": "c0c8948a",
   "metadata": {},
   "source": [
    "`-` 모델의 ***depth*** 조절"
   ]
  },
  {
   "cell_type": "code",
   "execution_count": 16,
   "id": "3e173d6b",
   "metadata": {},
   "outputs": [
    {
     "name": "stdout",
     "output_type": "stream",
     "text": [
      "훈련 세트 정확도: 0.991\n",
      "테스트 세트 정확도: 0.972\n"
     ]
    }
   ],
   "source": [
    "gbrt = GradientBoostingClassifier(random_state=0, max_depth=1)\n",
    "gbrt.fit(X_train, y_train)\n",
    "\n",
    "print(\"훈련 세트 정확도: {:.3f}\".format(gbrt.score(X_train, y_train)))\n",
    "print(\"테스트 세트 정확도: {:.3f}\".format(gbrt.score(X_test, y_test)))"
   ]
  },
  {
   "cell_type": "markdown",
   "id": "9beddeaa",
   "metadata": {},
   "source": [
    "`-` 트리의 ***학습률 (learning_rate)*** 조절\n",
    "\n",
    "$\\alpha = 0.1 \\to \\alpha = 0.01$ 로 조절"
   ]
  },
  {
   "cell_type": "code",
   "execution_count": 15,
   "id": "60de74f3",
   "metadata": {},
   "outputs": [
    {
     "name": "stdout",
     "output_type": "stream",
     "text": [
      "훈련 세트 정확도: 0.988\n",
      "테스트 세트 정확도: 0.965\n"
     ]
    }
   ],
   "source": [
    "gbrt = GradientBoostingClassifier(random_state=0, learning_rate=0.01)\n",
    "gbrt.fit(X_train, y_train)\n",
    "\n",
    "print(\"훈련 세트 정확도: {:.3f}\".format(gbrt.score(X_train, y_train)))\n",
    "print(\"테스트 세트 정확도: {:.3f}\".format(gbrt.score(X_test, y_test)))"
   ]
  },
  {
   "cell_type": "markdown",
   "id": "50e99a9b",
   "metadata": {},
   "source": [
    "- 위의 두 방식은 모델의 복잡도를 감소시키므로 예상대로 훈련 세트의 정확도가 낮아졌다. 위의 예시에서 학습률을 낮추는 것은 테스트 셋의 성능을 개선하지 못하였지만, 트리의 최대깊이를 낮추는 것은 모델 성능 향상에 크게 기여하였다."
   ]
  },
  {
   "cell_type": "markdown",
   "id": "a66489b9",
   "metadata": {},
   "source": [
    "`-` 실습1 : learning_rate을 아래와 같이 변경 후, 모델을 반복시켜 보자.\n",
    "\n",
    "- $\\alpha = [0.01, 0.05, 0.07, 0.09, 0.001, 0.005, 0.007]$"
   ]
  },
  {
   "cell_type": "code",
   "execution_count": 17,
   "id": "5b877e7e",
   "metadata": {},
   "outputs": [
    {
     "name": "stdout",
     "output_type": "stream",
     "text": [
      "learning_rate =  0.01\n",
      "훈련 세트 정확도: 0.988\n",
      "테스트 세트 정확도: 0.965\n",
      " \n",
      "learning_rate =  0.05\n",
      "훈련 세트 정확도: 1.000\n",
      "테스트 세트 정확도: 0.965\n",
      " \n",
      "learning_rate =  0.07\n",
      "훈련 세트 정확도: 1.000\n",
      "테스트 세트 정확도: 0.965\n",
      " \n",
      "learning_rate =  0.09\n",
      "훈련 세트 정확도: 1.000\n",
      "테스트 세트 정확도: 0.965\n",
      " \n",
      "learning_rate =  0.001\n",
      "훈련 세트 정확도: 0.627\n",
      "테스트 세트 정확도: 0.629\n",
      " \n",
      "learning_rate =  0.005\n",
      "훈련 세트 정확도: 0.986\n",
      "테스트 세트 정확도: 0.965\n",
      " \n",
      "learning_rate =  0.007\n",
      "훈련 세트 정확도: 0.986\n",
      "테스트 세트 정확도: 0.965\n",
      " \n"
     ]
    }
   ],
   "source": [
    "lr_list = [0.01, 0.05, 0.07, 0.09, 0.001, 0.005, 0.007]\n",
    "\n",
    "for lr in lr_list:\n",
    "    gbrt = GradientBoostingClassifier(random_state=0, learning_rate=lr)\n",
    "    gbrt.fit(X_train, y_train)\n",
    "    \n",
    "    print(\"learning_rate = \", lr)\n",
    "    print(\"훈련 세트 정확도: {:.3f}\".format(gbrt.score(X_train, y_train)))\n",
    "    print(\"테스트 세트 정확도: {:.3f}\".format(gbrt.score(X_test, y_test)))\n",
    "    print(' ')"
   ]
  },
  {
   "cell_type": "markdown",
   "id": "24b85c57",
   "metadata": {},
   "source": [
    "### 03. 특성 중요도\n",
    "*전체 트리를 살펴보는 것은 어려울 수 있어 대신 트리가 어떻게 작동하는지 요약하는 속성들을 사용할 수 있다. 가장 널리 사용되는 속성은 트리를 만드는 결정에 각 특성이 얼마나 중요한지를 평가하는 **특성 중요도(feature importance)** 이다.*"
   ]
  },
  {
   "cell_type": "markdown",
   "id": "b16040b7",
   "metadata": {},
   "source": [
    "*다른 결정 기반의 모델처럼 특성 중요도를 시각화하면 모델을 더 잘 이해할 수 있다.\n",
    "트리를 100개나 사용하였기 때문에 깊이가 1이더라도 모든 트리를 분석하기는 쉽지 않다.*"
   ]
  },
  {
   "cell_type": "code",
   "execution_count": 21,
   "id": "74cdbc18",
   "metadata": {},
   "outputs": [],
   "source": [
    "def plot_feature_importances_cancer(model):\n",
    "    n_features = cancer.data.shape[1]\n",
    "    plt.barh(np.arange(n_features), model.feature_importances_, align='center')\n",
    "    plt.yticks(np.arange(n_features), cancer.feature_names)\n",
    "    plt.xlabel('특성 중요도')\n",
    "    plt.ylabel('특성')\n",
    "    plt.ylim(-1, n_features)"
   ]
  },
  {
   "cell_type": "code",
   "execution_count": 22,
   "id": "6c31d163",
   "metadata": {},
   "outputs": [
    {
     "data": {
      "image/png": "[encoded data removed]",
      "text/plain": [
       "<Figure size 432x288 with 1 Axes>"
      ]
     },
     "metadata": {
      "needs_background": "light"
     },
     "output_type": "display_data"
    }
   ],
   "source": [
    "gbrt = GradientBoostingClassifier(random_state=0, max_depth=1)\n",
    "gbrt.fit(X_train, y_train)\n",
    "\n",
    "plot_feature_importances_cancer(gbrt)"
   ]
  },
  {
   "cell_type": "markdown",
   "id": "26ffb0f1",
   "metadata": {},
   "source": [
    "- Gradient Boosting tree의 특성 중요도 그래프가 랜덤 포레스트와 비슷한 특성을 강조하고 있다. 다만 Gradient Boosting tree는 일부 특성을 완전히 무시하고 있다."
   ]
  },
  {
   "cell_type": "markdown",
   "id": "905cb669",
   "metadata": {},
   "source": [
    "- 비슷한 종류의 데이터에서 Gradient Boosting과 Random Forest 둘 다 잘 작동하지만, 보통 더 안정적인 랜덤포레스트를 먼저 적용한다.\n",
    "- 랜덤포레스트가 잘 작동하더라도 예측 시간이 중요하거나 머신러닝 모델에서 마지막 성능까지 쥐어짜야 할 때 그레디언트 부스팅을 사용하면 도움이 된다.\n",
    "\n",
    "*대규모 머신러닝 문제에 그레디언트 부스팅을 적용하려면 xgboost 패키지와 파이썬 인터페이스를 검토해보는 것이 좋다.*"
   ]
  },
  {
   "cell_type": "markdown",
   "id": "500d5168",
   "metadata": {},
   "source": [
    "> Introduction to Machine Learning with Python | 안드레아스 뮐러, 세라 가이도"
   ]
  }
 ],
 "metadata": {
  "kernelspec": {
   "display_name": "Python 3 (ipykernel)",
   "language": "python",
   "name": "python3"
  },
  "language_info": {
   "codemirror_mode": {
    "name": "ipython",
    "version": 3
   },
   "file_extension": ".py",
   "mimetype": "text/x-python",
   "name": "python",
   "nbconvert_exporter": "python",
   "pygments_lexer": "ipython3",
   "version": "3.8.11"
  }
 },
 "nbformat": 4,
 "nbformat_minor": 5
}
