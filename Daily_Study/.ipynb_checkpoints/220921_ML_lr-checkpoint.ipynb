{
 "cells": [
  {
   "cell_type": "markdown",
   "id": "fb7a7efe",
   "metadata": {},
   "source": [
    "# Ch03. 선형모델 - Linear model"
   ]
  },
  {
   "cell_type": "markdown",
   "id": "1fcec64b",
   "metadata": {},
   "source": [
    "## 학습 목표\n",
    "- 선형 모델(Linear Regression)에 대해 이해해보자. $(\\star\\star)$"
   ]
  },
  {
   "cell_type": "markdown",
   "id": "a138a55d",
   "metadata": {},
   "source": [
    "## 학습내용"
   ]
  },
  {
   "cell_type": "markdown",
   "id": "a2afd4f3",
   "metadata": {},
   "source": [
    "- Boston 데이터 셋 불러오기\n",
    "- 집값 예측 선형모델 구축해보기\n",
    "\n",
    "- 선형회귀(linear regression)는 100여 년 전에 개발되었다.\n",
    "- 선형 모델은 입력 특성에 대한 선형 함수를 만들어 예측을 수행\n",
    "- 특성이 하나일 때는 **직선**, 두개일 때는 **평면**, 더 높은 차원 **초평면**(hyperplane)\n",
    "- knnRegression과 비교해보면 직선이 사용한 예측이 더 제약이 있다.\n",
    "- 특성이 많은 데이터 셋이라면 선형 모델은 훌륭한 성능을 갖는다."
   ]
  },
  {
   "cell_type": "markdown",
   "id": "17082bed",
   "metadata": {},
   "source": [
    "### <font color = 'purple'>선형 회귀 모형</font>\n",
    "$$ Y_i = \\beta_0 + \\beta_1x_{i1} + \\dots + \\beta_px_{ip} +\\epsilon_i, \\quad \\epsilon_i \\overset{\\mathrm{iid}}{\\sim} N(0, \\sigma^2),\\quad i=1,\\dots n$$\n",
    "\n",
    "***가정(Assumptions)***\n",
    "\n",
    "- **선형성 (Linearity)** : 평균 반응 $E(Y|X=x)$과 설명변수 선형관계\n",
    "\n",
    "\n",
    "\n",
    "- **독립성 (Independence)** : $Y_1, Y_2, \\dots, Y_n$이 서로 독립\n",
    "    - $f(y_1,y_2,\\dots,y_n|x_1,x_2,\\dots,x_n) = f(y_1|x_1)f(y_2|x_2)\\dots f(y_n|x_n)$\n",
    "\n",
    "\n",
    "\n",
    "- **정규성 (Normality)** : $Y$의 분포가 정규분포, $Y|X = x\\sim Normal$\n",
    "\n",
    "\n",
    "\n",
    "- **등분산성 (Equal variance)** : $Y$의 분산 동일, $Var(Y|X=x) = \\sigma^2$"
   ]
  },
  {
   "cell_type": "markdown",
   "id": "e9ecf6e0",
   "metadata": {},
   "source": [
    "### <font color = 'purple'>LS method</font>\n",
    "\n",
    "> $$S(\\beta_0, \\beta_1, \\dots, \\beta_p) := \\sum_{i=1}^n[Y_i - (\\beta_0+\\beta_1x_{i1}+\\dots+\\beta_px_{ip})]^2$$\n",
    "> $\\hat{\\beta}_0,\\hat{\\beta}_1,\\dots,\\hat{\\beta}_p$를 최소로 하는 $\\beta_0, \\beta_1, \\dots, \\beta_p$\n",
    "\n",
    "\n",
    "\n",
    "- 반응변수의 적합치 : $\\hat{Y}_i = \\hat{\\beta}_0 + \\hat{\\beta}_1x_{i1} + \\dots + \\hat{\\beta}_px_{ip}$\n",
    "\n",
    "- 잔차(Residual) 또는 추정된 오차: $e_i = Y_i - \\hat{Y}_i$\n",
    "\n",
    "- 오차의 분산 추정량 : $\\hat{\\sigma}^2 = \\sum e_i^2/(n-p-1)$"
   ]
  },
  {
   "cell_type": "markdown",
   "id": "7ea8983a",
   "metadata": {},
   "source": [
    "### <font color = 'purple'>선형 회귀 모형의 추정</font>\n",
    "\n",
    "추정된 회귀 모형의 적합도\n",
    "\n",
    "**결정계수 (coefficient of determinant)**\n",
    "$$R^2 = \\frac{\\sum_{i=1}^n (\\hat{Y}_i - \\bar{Y})^2}{\\sum_{i=1}^n (Y_i - \\bar{Y})^2} = \\frac{SS_{reg}}{SST} = \\frac{회귀제곱합}{총제곱합}$$\n",
    "\n",
    "\n",
    "\n",
    "- 회귀제곱합 : 추정된 회귀모형상의 $i$번째 반응변수 값, $\\hat{Y}_i$와 실제 관측된 $Y_i$들의 평균 $\\bar{Y}$의 편차 제곱합\n",
    "\n",
    "- 총제곱합 : 실제 관측된 $Y_i$와 $\\bar{Y}$의 편차 제곱합\n",
    "\n",
    "- $0 \\leq R^2 \\leq 1$\n",
    "\n",
    "- 단순 선형 회귀 모형의 경우 $R^2 = \\text{상관계수제곱}$"
   ]
  },
  {
   "cell_type": "markdown",
   "id": "a6bac572",
   "metadata": {},
   "source": [
    "## 01. 선형 회귀 모델 그래프로 살펴보기"
   ]
  },
  {
   "cell_type": "markdown",
   "id": "795a2b96",
   "metadata": {},
   "source": [
    "특성이 하나일 때의 선형 함수"
   ]
  },
  {
   "cell_type": "code",
   "execution_count": 2,
   "id": "5492a4a4",
   "metadata": {},
   "outputs": [
    {
     "name": "stdout",
     "output_type": "stream",
     "text": [
      "w[0]: 0.393906  b: -0.031804\n"
     ]
    },
    {
     "data": {
      "image/png": "[encoded data removed]",
      "text/plain": [
       "<Figure size 576x576 with 1 Axes>"
      ]
     },
     "metadata": {
      "needs_background": "light"
     },
     "output_type": "display_data"
    }
   ],
   "source": [
    "import mglearn\n",
    "mglearn.plots.plot_linear_regression_wave()"
   ]
  },
  {
   "cell_type": "markdown",
   "id": "5da92f5c",
   "metadata": {},
   "source": [
    "### 02. Boston 데이터 셋을 활용한 회귀 모델 만들어보기"
   ]
  },
  {
   "cell_type": "markdown",
   "id": "0d4655d4",
   "metadata": {},
   "source": [
    "`-` 데이터 설명\n",
    "- 1970년대의 보스턴 주변의 주택 평균 가격 예측\n",
    "- 506개의 데이터 포인트와 13개의 특성"
   ]
  },
  {
   "cell_type": "markdown",
   "id": "db2e8f33",
   "metadata": {},
   "source": [
    "```\n",
    "(1) 모델 만들기 [ 모델명 = 모델객체 ]\n",
    "\n",
    "(2) 모델 학습시키기 [ 모델명.fit() ]\n",
    "\n",
    "(3) 모델을 활용한 예측하기 [ 모델명.predict() ]\n",
    "\n",
    "(4) 모델 평가\n",
    "```"
   ]
  },
  {
   "cell_type": "code",
   "execution_count": 18,
   "id": "654e5790",
   "metadata": {},
   "outputs": [],
   "source": [
    "import matplotlib\n",
    "import matplotlib.pyplot as plt\n",
    "import pandas as pd"
   ]
  },
  {
   "cell_type": "code",
   "execution_count": 8,
   "id": "81e0c187",
   "metadata": {},
   "outputs": [],
   "source": [
    "from sklearn.linear_model import LinearRegression\n",
    "from sklearn.datasets import load_boston\n",
    "\n",
    "from sklearn.model_selection import train_test_split\n",
    "\n",
    "import warnings\n",
    "warnings.filterwarnings('ignore')"
   ]
  },
  {
   "cell_type": "code",
   "execution_count": 54,
   "id": "495d6ddb",
   "metadata": {},
   "outputs": [],
   "source": [
    "boston = load_boston()\n",
    "X = boston.data\n",
    "y = boston.target"
   ]
  },
  {
   "attachments": {
    "image.png": {
     "image/png": "[encoded data removed]"
    }
   },
   "cell_type": "markdown",
   "id": "48181045",
   "metadata": {},
   "source": [
    "![image.png](attachment:image.png)"
   ]
  },
  {
   "cell_type": "code",
   "execution_count": 12,
   "id": "b5bd6942",
   "metadata": {},
   "outputs": [
    {
     "data": {
      "text/plain": [
       "sklearn.utils._bunch.Bunch"
      ]
     },
     "execution_count": 12,
     "metadata": {},
     "output_type": "execute_result"
    }
   ],
   "source": [
    "type(boston)"
   ]
  },
  {
   "cell_type": "markdown",
   "id": "75111f8f",
   "metadata": {},
   "source": [
    "- type이 bunch인 경우 head(), tail()로 접근할 수 없다.\n",
    "- 딕셔너리와 같이 .keys(), .values()로 접근 가능"
   ]
  },
  {
   "cell_type": "code",
   "execution_count": 17,
   "id": "7033da1e",
   "metadata": {},
   "outputs": [
    {
     "name": "stdout",
     "output_type": "stream",
     "text": [
      "dict_keys(['data', 'target', 'feature_names', 'DESCR', 'filename', 'data_module'])\n",
      "--------------------------------------------------------------------------------\n",
      "['CRIM' 'ZN' 'INDUS' 'CHAS' 'NOX' 'RM' 'AGE' 'DIS' 'RAD' 'TAX' 'PTRATIO'\n",
      " 'B' 'LSTAT']\n"
     ]
    }
   ],
   "source": [
    "print(boston.keys())\n",
    "print('--'*40)\n",
    "print(boston.feature_names)"
   ]
  },
  {
   "cell_type": "code",
   "execution_count": 55,
   "id": "83b72bce",
   "metadata": {},
   "outputs": [
    {
     "name": "stdout",
     "output_type": "stream",
     "text": [
      "[24.95233283 23.61699724 29.20588553 11.96070515 21.33362042 19.46954895\n",
      " 20.42228421 21.52044058 18.98954101 19.950983    4.92468244 16.09694058\n",
      " 16.93599574  5.33508402 39.84434398 32.33549843 22.32772572 36.54017819\n",
      " 31.03300611 23.32172503 24.92086498 24.26106474 20.71504422 30.45072552\n",
      " 22.45009234  9.87470006 17.70324412 17.974775   35.69932012 20.7940972\n",
      " 18.10554174 17.68317865 19.71354713 23.79693873 29.06528958 19.23738284\n",
      " 10.97815878 24.56199978 17.32913052 15.20340817 26.09337458 20.87706795\n",
      " 22.26187518 15.32582693 22.85847963 25.08887173 19.74138819 22.70744911\n",
      "  9.66708558 24.46175926 20.72654169 17.52545047 24.45596997 30.10668865\n",
      " 13.31250981 21.52052342 20.65642932 15.34285652 13.7741129  22.07429287\n",
      " 17.53293957 21.60707766 32.91050188 31.32796114 17.64346364 32.69909854\n",
      " 18.56579207 19.32110821 18.81256692 23.04351442 22.81649956 23.99800754\n",
      " 30.62733254 28.8662207  25.78198145  5.00689605 36.83409088 23.80490328\n",
      " 27.36965299 19.33057146 28.51439846 19.19147448 18.81694283 37.94245021\n",
      " 39.3441055  23.90759744 24.95985846 15.70262358 25.92060968 16.56968829\n",
      " 15.76303806 12.89190083 24.4389405  30.9319885  22.36798609 20.17628607\n",
      "  0.22819711 25.26459847 15.35369364 17.7983399  25.44689554 22.46612234\n",
      " 32.57911019 22.01436262 27.37542798 23.31348039  6.29811532 14.75925592\n",
      " 22.44945223 29.11172812 32.97160856 12.85457141 19.79963356 20.60017439\n",
      " 12.06928939 23.38532482  4.75243811 19.8342911   9.17555571 44.63299931\n",
      " 30.63144603 12.29971299 17.53804831 21.50222331 23.63281301 20.28259817\n",
      " 35.17973368]\n"
     ]
    }
   ],
   "source": [
    "# 01. 데이터 나누기\n",
    "X_train, X_test, y_train, y_test = train_test_split(X, y, random_state=0)\n",
    "\n",
    "# 02. 모델 생성\n",
    "model = LinearRegression()\n",
    "\n",
    "# 03. 모델 학습\n",
    "model.fit(X_train ,y_train)\n",
    "\n",
    "# 04. 모델 예측\n",
    "pred = model.predict(X_test) \n",
    "print(pred)"
   ]
  },
  {
   "cell_type": "code",
   "execution_count": 56,
   "id": "5656133e",
   "metadata": {},
   "outputs": [
    {
     "name": "stdout",
     "output_type": "stream",
     "text": [
      "MSE =  29.782245092302237\n"
     ]
    }
   ],
   "source": [
    "# 05. MSE 구하기\n",
    "import numpy as np\n",
    "print(\"MSE = \", np.mean((y_test - pred)**2))"
   ]
  },
  {
   "cell_type": "code",
   "execution_count": 57,
   "id": "b1ac9748",
   "metadata": {},
   "outputs": [
    {
     "data": {
      "text/html": [
       "<div>\n",
       "<style scoped>\n",
       "    .dataframe tbody tr th:only-of-type {\n",
       "        vertical-align: middle;\n",
       "    }\n",
       "\n",
       "    .dataframe tbody tr th {\n",
       "        vertical-align: top;\n",
       "    }\n",
       "\n",
       "    .dataframe thead th {\n",
       "        text-align: right;\n",
       "    }\n",
       "</style>\n",
       "<table border=\"1\" class=\"dataframe\">\n",
       "  <thead>\n",
       "    <tr style=\"text-align: right;\">\n",
       "      <th></th>\n",
       "      <th>실제값</th>\n",
       "      <th>예측값</th>\n",
       "      <th>오차</th>\n",
       "    </tr>\n",
       "  </thead>\n",
       "  <tbody>\n",
       "    <tr>\n",
       "      <th>0</th>\n",
       "      <td>22.6</td>\n",
       "      <td>24.952333</td>\n",
       "      <td>-2.352333</td>\n",
       "    </tr>\n",
       "    <tr>\n",
       "      <th>1</th>\n",
       "      <td>50.0</td>\n",
       "      <td>23.616997</td>\n",
       "      <td>26.383003</td>\n",
       "    </tr>\n",
       "    <tr>\n",
       "      <th>2</th>\n",
       "      <td>23.0</td>\n",
       "      <td>29.205886</td>\n",
       "      <td>-6.205886</td>\n",
       "    </tr>\n",
       "    <tr>\n",
       "      <th>3</th>\n",
       "      <td>8.3</td>\n",
       "      <td>11.960705</td>\n",
       "      <td>-3.660705</td>\n",
       "    </tr>\n",
       "    <tr>\n",
       "      <th>4</th>\n",
       "      <td>21.2</td>\n",
       "      <td>21.333620</td>\n",
       "      <td>-0.133620</td>\n",
       "    </tr>\n",
       "    <tr>\n",
       "      <th>...</th>\n",
       "      <td>...</td>\n",
       "      <td>...</td>\n",
       "      <td>...</td>\n",
       "    </tr>\n",
       "    <tr>\n",
       "      <th>122</th>\n",
       "      <td>19.4</td>\n",
       "      <td>17.538048</td>\n",
       "      <td>1.861952</td>\n",
       "    </tr>\n",
       "    <tr>\n",
       "      <th>123</th>\n",
       "      <td>21.2</td>\n",
       "      <td>21.502223</td>\n",
       "      <td>-0.302223</td>\n",
       "    </tr>\n",
       "    <tr>\n",
       "      <th>124</th>\n",
       "      <td>20.3</td>\n",
       "      <td>23.632813</td>\n",
       "      <td>-3.332813</td>\n",
       "    </tr>\n",
       "    <tr>\n",
       "      <th>125</th>\n",
       "      <td>18.8</td>\n",
       "      <td>20.282598</td>\n",
       "      <td>-1.482598</td>\n",
       "    </tr>\n",
       "    <tr>\n",
       "      <th>126</th>\n",
       "      <td>33.4</td>\n",
       "      <td>35.179734</td>\n",
       "      <td>-1.779734</td>\n",
       "    </tr>\n",
       "  </tbody>\n",
       "</table>\n",
       "<p>127 rows × 3 columns</p>\n",
       "</div>"
      ],
      "text/plain": [
       "      실제값        예측값         오차\n",
       "0    22.6  24.952333  -2.352333\n",
       "1    50.0  23.616997  26.383003\n",
       "2    23.0  29.205886  -6.205886\n",
       "3     8.3  11.960705  -3.660705\n",
       "4    21.2  21.333620  -0.133620\n",
       "..    ...        ...        ...\n",
       "122  19.4  17.538048   1.861952\n",
       "123  21.2  21.502223  -0.302223\n",
       "124  20.3  23.632813  -3.332813\n",
       "125  18.8  20.282598  -1.482598\n",
       "126  33.4  35.179734  -1.779734\n",
       "\n",
       "[127 rows x 3 columns]"
      ]
     },
     "execution_count": 57,
     "metadata": {},
     "output_type": "execute_result"
    }
   ],
   "source": [
    "dict_df = {\"실제값\":y_test, \"예측값\":pred, \"오차\":y_test-pred}\n",
    "df = pd.DataFrame(dict_df)\n",
    "df"
   ]
  },
  {
   "cell_type": "markdown",
   "id": "7c59829c",
   "metadata": {},
   "source": [
    "### 평가지표\n",
    "\n",
    "- MSE \n",
    "- MAE\n",
    "- RMSE\n",
    "- RMSLE"
   ]
  },
  {
   "cell_type": "code",
   "execution_count": 65,
   "id": "ef5c78c6",
   "metadata": {},
   "outputs": [],
   "source": [
    "import numpy as np\n",
    "\n",
    "from sklearn.metrics import mean_absolute_error\n",
    "from sklearn.metrics import mean_squared_error"
   ]
  },
  {
   "cell_type": "code",
   "execution_count": 69,
   "id": "ca2249f1",
   "metadata": {},
   "outputs": [
    {
     "name": "stdout",
     "output_type": "stream",
     "text": [
      "MSE =  29.782245092302237\n",
      "MSE =  29.782245092302237\n"
     ]
    }
   ],
   "source": [
    "# 05. MSE 구하기\n",
    "print(\"MSE = \", np.mean((y_test - pred)**2))\n",
    "print(\"MSE = \", mean_squared_error(y_test, pred))"
   ]
  },
  {
   "cell_type": "code",
   "execution_count": null,
   "id": "d355d8c5",
   "metadata": {},
   "outputs": [],
   "source": []
  }
 ],
 "metadata": {
  "kernelspec": {
   "display_name": "Python 3 (ipykernel)",
   "language": "python",
   "name": "python3"
  },
  "language_info": {
   "codemirror_mode": {
    "name": "ipython",
    "version": 3
   },
   "file_extension": ".py",
   "mimetype": "text/x-python",
   "name": "python",
   "nbconvert_exporter": "python",
   "pygments_lexer": "ipython3",
   "version": "3.8.11"
  }
 },
 "nbformat": 4,
 "nbformat_minor": 5
}
