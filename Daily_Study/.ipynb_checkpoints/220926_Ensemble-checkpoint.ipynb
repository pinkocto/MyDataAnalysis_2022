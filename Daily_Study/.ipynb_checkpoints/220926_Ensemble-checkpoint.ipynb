{
 "cells": [
  {
   "cell_type": "markdown",
   "id": "93501663",
   "metadata": {},
   "source": [
    "### CH2. 앙상블 기법에 대해 알아보기"
   ]
  },
  {
   "cell_type": "markdown",
   "id": "0d0e1869",
   "metadata": {},
   "source": [
    "#### 대표적인 알고리즘 RandomForest"
   ]
  },
  {
   "cell_type": "markdown",
   "id": "f3bf9bd8",
   "metadata": {},
   "source": [
    "- 앙상블이 무엇인지?\n",
    "- 랜덤 포레스트 알고리즘을 이용해 본다.\n",
    "- ㄱ타 모델로 다시 만들어 여러 모델을 비교해 본다."
   ]
  },
  {
   "cell_type": "markdown",
   "id": "a5740ca8",
   "metadata": {},
   "source": [
    "### 01. 앙상블(ensemble)이란 무엇일까?\n",
    "- 여러 머신러닝 **모델을 연결**하여 더 강력한 모델을 만드는 기법이다."
   ]
  },
  {
   "cell_type": "markdown",
   "id": "b4cf4825",
   "metadata": {},
   "source": [
    "### 02. 랜덤 포레스트(RandomForest)는 무엇인가?\n",
    "- 원리\n",
    "    - 01. 트리를 많이 만든다.\n",
    "    - 02. 각각의 모델이 예측한다.\n",
    "    - 03. 예측한 값들의 평균값을 구한다. 이를 최종 예측값으로 이용"
   ]
  },
  {
   "cell_type": "code",
   "execution_count": null,
   "id": "4373819f",
   "metadata": {},
   "outputs": [],
   "source": []
  }
 ],
 "metadata": {
  "kernelspec": {
   "display_name": "Python 3 (ipykernel)",
   "language": "python",
   "name": "python3"
  },
  "language_info": {
   "codemirror_mode": {
    "name": "ipython",
    "version": 3
   },
   "file_extension": ".py",
   "mimetype": "text/x-python",
   "name": "python",
   "nbconvert_exporter": "python",
   "pygments_lexer": "ipython3",
   "version": "3.8.11"
  }
 },
 "nbformat": 4,
 "nbformat_minor": 5
}
