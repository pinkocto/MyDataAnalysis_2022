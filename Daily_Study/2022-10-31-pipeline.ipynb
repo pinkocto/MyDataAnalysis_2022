{
 "cells": [
  {
   "cell_type": "markdown",
   "id": "e76b86fa",
   "metadata": {},
   "source": [
    "# 머신러닝 파이프라인"
   ]
  },
  {
   "cell_type": "markdown",
   "id": "6c77395d",
   "metadata": {},
   "source": [
    "`-` 01. 데이터 불러오기 \n",
    "\n",
    "`-` 02. 파이프라인 생성 및 학습\n",
    "\n",
    "`-` 03. 파이프라인 함수로 만들기\n",
    "\n",
    "`-` 04. 학습내용 저장 및 불러오기"
   ]
  },
  {
   "cell_type": "code",
   "execution_count": null,
   "id": "f6617dc4",
   "metadata": {},
   "outputs": [],
   "source": []
  }
 ],
 "metadata": {
  "kernelspec": {
   "display_name": "Python 3 (ipykernel)",
   "language": "python",
   "name": "python3"
  },
  "language_info": {
   "codemirror_mode": {
    "name": "ipython",
    "version": 3
   },
   "file_extension": ".py",
   "mimetype": "text/x-python",
   "name": "python",
   "nbconvert_exporter": "python",
   "pygments_lexer": "ipython3",
   "version": "3.8.13"
  }
 },
 "nbformat": 4,
 "nbformat_minor": 5
}
