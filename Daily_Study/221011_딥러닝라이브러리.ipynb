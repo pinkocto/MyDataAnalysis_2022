{
 "cells": [
  {
   "cell_type": "code",
   "execution_count": 2,
   "id": "4e1de7e2",
   "metadata": {},
   "outputs": [],
   "source": [
    "import sys\n",
    "import tensorflow as tf\n",
    "import keras\n",
    "import matplotlib as mpl\n",
    "import seaborn as sns\n",
    "import numpy as np\n",
    "import sklearn as sk\n",
    "import pandas as pd"
   ]
  },
  {
   "cell_type": "code",
   "execution_count": 3,
   "id": "7da8f742",
   "metadata": {},
   "outputs": [
    {
     "name": "stdout",
     "output_type": "stream",
     "text": [
      "3.8.13 (default, Mar 28 2022, 06:59:08) [MSC v.1916 64 bit (AMD64)]\n",
      "2.10.0\n",
      "2.10.0\n",
      "3.6.1\n",
      "0.12.0\n",
      "1.23.3\n",
      "1.1.1\n",
      "1.5.0\n"
     ]
    }
   ],
   "source": [
    "print(sys.version)\n",
    "print(tf.__version__)\n",
    "print(keras.__version__)\n",
    "print(mpl.__version__)\n",
    "print(sns.__version__)\n",
    "print(np.__version__)\n",
    "print(sk.__version__)\n",
    "print(pd.__version__)"
   ]
  },
  {
   "cell_type": "code",
   "execution_count": null,
   "id": "1f3078bc",
   "metadata": {},
   "outputs": [],
   "source": []
  }
 ],
 "metadata": {
  "kernelspec": {
   "display_name": "Python 3 (ipykernel)",
   "language": "python",
   "name": "python3"
  },
  "language_info": {
   "codemirror_mode": {
    "name": "ipython",
    "version": 3
   },
   "file_extension": ".py",
   "mimetype": "text/x-python",
   "name": "python",
   "nbconvert_exporter": "python",
   "pygments_lexer": "ipython3",
   "version": "3.8.13"
  }
 },
 "nbformat": 4,
 "nbformat_minor": 5
}
