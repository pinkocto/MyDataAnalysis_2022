{
 "cells": [
  {
   "cell_type": "markdown",
   "id": "fb7a7efe",
   "metadata": {},
   "source": [
    "# Ch03. 선형모델 - Linear model"
   ]
  },
  {
   "cell_type": "markdown",
   "id": "1fcec64b",
   "metadata": {},
   "source": [
    "## 학습 목표\n",
    "- 선형 모델(Linear Regression)에 대해 이해합니다."
   ]
  },
  {
   "cell_type": "markdown",
   "id": "a138a55d",
   "metadata": {},
   "source": [
    "## 학습내용"
   ]
  },
  {
   "cell_type": "markdown",
   "id": "a2afd4f3",
   "metadata": {},
   "source": [
    "- Boston 데이터 셋 불러오기\n",
    "- 집값 예측 선형모델 구축해보기\n",
    "\n",
    "- 선형회귀(linear regression)는 100여 년 전에 개발되었다.\n",
    "- 선형 모델은 입력 특성에 대한 선형 함수를 만들어 예측을 수행\n",
    "- 특성이 하나일 때는 직선, 두개일 때는 평면, 더 높은 차원 초평면\n",
    "- knnRegression과 비교해보면 직선이 사용한 예측이 더 제약이 있다.\n",
    "- 특성이 많은 데이터 셋이라면 선형 모델은 훌륭한 성능을 갖는다."
   ]
  },
  {
   "cell_type": "code",
   "execution_count": 2,
   "id": "19d734e6",
   "metadata": {},
   "outputs": [],
   "source": [
    "### 한글 폰트 설정\n",
    "import matplotlib\n",
    "from matplotlib import font_manager, rc\n",
    "import matplotlib.pyplot as plt\n",
    "import platform\n",
    "import mglearn\n",
    "\n",
    "path = \"C:/Windows/Fonts/malgun.ttf\"\n",
    "if platform.system() == \"Windows\":\n",
    "    font_name = font_manager.FontProperties(fname=path).get_name()\n",
    "    rc('font', family=font_name)\n",
    "elif platform.system()==\"Darwin\":\n",
    "    rc('font', family='AppleGothic')\n",
    "else:\n",
    "    print(\"Unknown System\")\n",
    "    \n",
    "matplotlib.rcParams['axes.unicode_minus'] = False\n",
    "\n",
    "%matplotlib inline"
   ]
  },
  {
   "cell_type": "markdown",
   "id": "a6bac572",
   "metadata": {},
   "source": [
    "## 01. 회귀 선형 모델 그래프로 살펴보기"
   ]
  },
  {
   "cell_type": "markdown",
   "id": "795a2b96",
   "metadata": {},
   "source": [
    "특성이 하나일 때의 선형 함수"
   ]
  },
  {
   "cell_type": "code",
   "execution_count": 5,
   "id": "5492a4a4",
   "metadata": {},
   "outputs": [
    {
     "name": "stdout",
     "output_type": "stream",
     "text": [
      "w[0]: 0.393906  b: -0.031804\n"
     ]
    },
    {
     "data": {
      "image/png": "[encoded data removed]",
      "text/plain": [
       "<Figure size 576x576 with 1 Axes>"
      ]
     },
     "metadata": {
      "needs_background": "light"
     },
     "output_type": "display_data"
    }
   ],
   "source": [
    "mglearn.plots.plot_linear_regression_wave()"
   ]
  },
  {
   "cell_type": "markdown",
   "id": "5da92f5c",
   "metadata": {},
   "source": [
    "### 02. Boston 데이터 셋을 활용한 회귀 모델 만들어보기"
   ]
  },
  {
   "cell_type": "markdown",
   "id": "0d4655d4",
   "metadata": {},
   "source": [
    "`-` 데이터 설명\n",
    "- 1970년대의 보스턴 주변의 주택 평균 가격 예측\n",
    "- 506개의 데이터 포인트와 13개의 특성"
   ]
  },
  {
   "cell_type": "markdown",
   "id": "db2e8f33",
   "metadata": {},
   "source": [
    "(1) 모델 만들기 [모델명 = 모델객체]\n",
    "\n",
    "(2) 모델 학습시키기 [모델명.fit()]\n",
    "\n",
    "(3) 모델을 활용한 예측하기 [모델명.predict()]\n",
    "\n",
    "(4) 모델 평가"
   ]
  },
  {
   "cell_type": "code",
   "execution_count": 6,
   "id": "81e0c187",
   "metadata": {},
   "outputs": [],
   "source": [
    "from sklearn.linear_model import LinearRegression\n",
    "from sklearn.datasets import load_boston\n",
    "\n",
    "from sklearn.model_selection import train_test_split"
   ]
  },
  {
   "cell_type": "code",
   "execution_count": 11,
   "id": "495d6ddb",
   "metadata": {},
   "outputs": [],
   "source": [
    "boston = load_boston()\n",
    "X = boston.data\n",
    "y = boston.target"
   ]
  },
  {
   "cell_type": "code",
   "execution_count": 13,
   "id": "83b72bce",
   "metadata": {},
   "outputs": [],
   "source": [
    "# 01. 데이터 나누기\n",
    "X_train, X_test, y_train, y_test = train_test_split(X, y, random_state=7)"
   ]
  },
  {
   "cell_type": "code",
   "execution_count": 15,
   "id": "bbc3d5e2",
   "metadata": {},
   "outputs": [],
   "source": [
    "# 02. 모델 생성\n",
    "model = LinearRegression()\n",
    "\n",
    "# 03. 모델 학습\n",
    "model.fit(X_train, y_train)\n",
    "\n",
    "# 04. 모델 예측\n",
    "pred = model.predict(X_test)"
   ]
  },
  {
   "cell_type": "code",
   "execution_count": null,
   "id": "5656133e",
   "metadata": {},
   "outputs": [],
   "source": [
    "# 05. MSE 구하기"
   ]
  },
  {
   "cell_type": "code",
   "execution_count": null,
   "id": "1c984cf6",
   "metadata": {},
   "outputs": [],
   "source": []
  }
 ],
 "metadata": {
  "kernelspec": {
   "display_name": "Python 3 (ipykernel)",
   "language": "python",
   "name": "python3"
  },
  "language_info": {
   "codemirror_mode": {
    "name": "ipython",
    "version": 3
   },
   "file_extension": ".py",
   "mimetype": "text/x-python",
   "name": "python",
   "nbconvert_exporter": "python",
   "pygments_lexer": "ipython3",
   "version": "3.8.11"
  }
 },
 "nbformat": 4,
 "nbformat_minor": 5
}
